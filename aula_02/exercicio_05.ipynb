{
 "cells": [
  {
   "cell_type": "markdown",
   "id": "a655df0b-282b-4117-bdd0-e8904f7a7ab2",
   "metadata": {},
   "source": [
    "# 5️⃣ Crie um programa em Python que utilize um laço de repetição para contar de 1 a 5. O programa deve exibir cada número da contagem, um por vez, na tela.​​\n",
    "\n",
    "Inicie a contagem em 1 e continue até alcançar o número 5.​​\n",
    "\n",
    "Para cada número, o programa deve exibir a mensagem \"Contagem: X\", onde X é o número atual da contagem."
   ]
  },
  {
   "cell_type": "code",
   "execution_count": 1,
   "id": "fbda2551-ee18-41b1-a3af-ff20b43aabe9",
   "metadata": {},
   "outputs": [
    {
     "name": "stdout",
     "output_type": "stream",
     "text": [
      "Contagem: 1\n",
      "Contagem: 2\n",
      "Contagem: 3\n",
      "Contagem: 4\n",
      "Contagem: 5\n"
     ]
    }
   ],
   "source": [
    "for i in range(1,6):\n",
    "    print(f'Contagem: {i}')"
   ]
  },
  {
   "cell_type": "code",
   "execution_count": null,
   "id": "d672bd14-ed43-4983-b5ca-3bb8406a82a9",
   "metadata": {},
   "outputs": [],
   "source": []
  }
 ],
 "metadata": {
  "kernelspec": {
   "display_name": "Python 3 (ipykernel)",
   "language": "python",
   "name": "python3"
  },
  "language_info": {
   "codemirror_mode": {
    "name": "ipython",
    "version": 3
   },
   "file_extension": ".py",
   "mimetype": "text/x-python",
   "name": "python",
   "nbconvert_exporter": "python",
   "pygments_lexer": "ipython3",
   "version": "3.12.4"
  }
 },
 "nbformat": 4,
 "nbformat_minor": 5
}
