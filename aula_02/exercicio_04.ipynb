{
 "cells": [
  {
   "cell_type": "markdown",
   "id": "6e22fd5e-658f-451b-be8e-b72c0db59209",
   "metadata": {},
   "source": [
    "# 4️⃣ Crie um programa em Python que solicite ao usuário que insira a sua idade. Com base na idade fornecida, o programa deve verificar se o usuário é menor de idade, maior de idade ou se está completando 18 anos.​​​​\n",
    "\n",
    "Se a idade for menor que 18 anos, o programa deve exibir \"Menor de idade!\".​​\n",
    "\n",
    "Se a idade for exatamente 18 anos, o programa deve exibir \"Feliz aniversário!\".​​\n",
    "\n",
    "Se a idade for maior que 18 anos, o programa deve exibir \"Maior de idade!\"."
   ]
  },
  {
   "cell_type": "code",
   "execution_count": 2,
   "id": "69eb578b-920b-488a-a952-6e6caad3b971",
   "metadata": {},
   "outputs": [
    {
     "name": "stdin",
     "output_type": "stream",
     "text": [
      "Qual é a sua idade?  18\n"
     ]
    },
    {
     "name": "stdout",
     "output_type": "stream",
     "text": [
      "Feliz aniversário!\n"
     ]
    }
   ],
   "source": [
    "idade = int(input(\"Qual é a sua idade? \"))\n",
    "\n",
    "if idade == 18:\n",
    "    print(\"Feliz aniversário!\")\n",
    "elif idade > 18 and idade < 60:\n",
    "    print(\"Maior de idade\")\n",
    "elif idade >= 60:\n",
    "    print(\"Idoso!\")\n",
    "else:\n",
    "    print(\"Menor de idade!\")"
   ]
  }
 ],
 "metadata": {
  "kernelspec": {
   "display_name": "Python 3 (ipykernel)",
   "language": "python",
   "name": "python3"
  },
  "language_info": {
   "codemirror_mode": {
    "name": "ipython",
    "version": 3
   },
   "file_extension": ".py",
   "mimetype": "text/x-python",
   "name": "python",
   "nbconvert_exporter": "python",
   "pygments_lexer": "ipython3",
   "version": "3.12.4"
  }
 },
 "nbformat": 4,
 "nbformat_minor": 5
}
