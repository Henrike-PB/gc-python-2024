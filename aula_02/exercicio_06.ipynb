{
 "cells": [
  {
   "cell_type": "markdown",
   "id": "5c1fbc59-762d-4242-b443-310763a5f53d",
   "metadata": {},
   "source": [
    "# 6️⃣ Crie um programa em Python que peça ao usuário para inserir o nome de três amigos.\n",
    "\n",
    "## O programa deve armazenar esses nomes em uma lista e, em seguida, exibir uma mensagem personalizada para cada amigo, indicando que ele é seu amigo. ​​\n",
    "\n",
    "O programa deve solicitar o nome de três amigos, um por vez. ​​\n",
    "\n",
    "Após coletar os nomes, o programa deve exibir uma mensagem para cada nome na lista, como \"Nome_do_Amigo é meu amigo\"."
   ]
  },
  {
   "cell_type": "code",
   "execution_count": 2,
   "id": "c7b9b481-bf1f-4bcd-aa06-2066ffb57ff2",
   "metadata": {},
   "outputs": [
    {
     "name": "stdin",
     "output_type": "stream",
     "text": [
      "Insira o nome do amigo 1 Eduardo\n",
      "Insira o nome do amigo 2 Gabriel\n",
      "Insira o nome do amigo 3 Nestor\n"
     ]
    },
    {
     "name": "stdout",
     "output_type": "stream",
     "text": [
      " Eduardo é meu amigo\n",
      " Gabriel é meu amigo\n",
      " Nestor é meu amigo\n"
     ]
    }
   ],
   "source": [
    "amigo1 = input('Insira o nome do amigo 1')\n",
    "amigo2 = input('Insira o nome do amigo 2')\n",
    "amigo3 = input('Insira o nome do amigo 3')\n",
    "\n",
    "list = []\n",
    "\n",
    "list.append(amigo1)\n",
    "list.append(amigo2)\n",
    "list.append(amigo3)\n",
    "\n",
    "print(f\" {list[0]} é meu amigo\") \n",
    "print(f\" {list[1]} é meu amigo\") \n",
    "print(f\" {list[2]} é meu amigo\") "
   ]
  },
  {
   "cell_type": "code",
   "execution_count": null,
   "id": "46081f81-8c4a-4117-98ac-0d8c537992e0",
   "metadata": {},
   "outputs": [],
   "source": []
  }
 ],
 "metadata": {
  "kernelspec": {
   "display_name": "Python 3 (ipykernel)",
   "language": "python",
   "name": "python3"
  },
  "language_info": {
   "codemirror_mode": {
    "name": "ipython",
    "version": 3
   },
   "file_extension": ".py",
   "mimetype": "text/x-python",
   "name": "python",
   "nbconvert_exporter": "python",
   "pygments_lexer": "ipython3",
   "version": "3.12.4"
  }
 },
 "nbformat": 4,
 "nbformat_minor": 5
}
