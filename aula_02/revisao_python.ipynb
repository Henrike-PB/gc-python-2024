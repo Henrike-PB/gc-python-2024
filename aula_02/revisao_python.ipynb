{
 "cells": [
  {
   "cell_type": "code",
   "execution_count": 5,
   "id": "cecced4c-f803-4c7a-9c55-391066602cbd",
   "metadata": {},
   "outputs": [],
   "source": [
    "nome = 'Isaaculo' #textos\n",
    "eh_professor = True # false\n",
    "nota = 10 #números inteiros\n",
    "dinheiro_na_carteira = 20.00 #números quadrados, decimais, ponto flutuante\n",
    "\n",
    "\n"
   ]
  },
  {
   "cell_type": "code",
   "execution_count": 6,
   "id": "e192fc83-0995-4243-9112-632f917c331e",
   "metadata": {},
   "outputs": [
    {
     "name": "stdout",
     "output_type": "stream",
     "text": [
      "neh não\n"
     ]
    }
   ],
   "source": [
    "if  10 < 3:\n",
    " print(\"Maior que 3\")\n",
    "else:\n",
    "    print(\"neh não\")\n",
    "\n",
    "\n"
   ]
  },
  {
   "cell_type": "code",
   "execution_count": 7,
   "id": "64d2fc75-e12c-46aa-ae93-80fb1894909c",
   "metadata": {},
   "outputs": [
    {
     "name": "stdout",
     "output_type": "stream",
     "text": [
      "Maçã\n",
      "uva\n",
      "leite\n"
     ]
    }
   ],
   "source": [
    "lista_compras = [\"Maçã\", \"uva\", \"leite\"]\n",
    "for i in lista_compras:\n",
    "    print(i)\n",
    "\n"
   ]
  },
  {
   "cell_type": "code",
   "execution_count": 8,
   "id": "95c83aa1-3584-45a8-a4ed-a8b388377ae1",
   "metadata": {},
   "outputs": [
    {
     "ename": "SyntaxError",
     "evalue": "incomplete input (3509263061.py, line 9)",
     "output_type": "error",
     "traceback": [
      "\u001b[0;36m  Cell \u001b[0;32mIn[8], line 9\u001b[0;36m\u001b[0m\n\u001b[0;31m    \u001b[0m\n\u001b[0m    ^\u001b[0m\n\u001b[0;31mSyntaxError\u001b[0m\u001b[0;31m:\u001b[0m incomplete input\n"
     ]
    }
   ],
   "source": [
    "lista_tupla = [(12, 24), (32, 48)]\n",
    "\n",
    "lista_dicionario = [{\n",
    "    nome: 'Henrike',\n",
    "    idade: 23,\n",
    "    code: True\n",
    "\n",
    "\n",
    "\n"
   ]
  },
  {
   "cell_type": "code",
   "execution_count": null,
   "id": "3b0e3193-61e0-4d62-acde-d89e0d2a272e",
   "metadata": {},
   "outputs": [],
   "source": []
  }
 ],
 "metadata": {
  "kernelspec": {
   "display_name": "Python 3 (ipykernel)",
   "language": "python",
   "name": "python3"
  },
  "language_info": {
   "codemirror_mode": {
    "name": "ipython",
    "version": 3
   },
   "file_extension": ".py",
   "mimetype": "text/x-python",
   "name": "python",
   "nbconvert_exporter": "python",
   "pygments_lexer": "ipython3",
   "version": "3.12.4"
  }
 },
 "nbformat": 4,
 "nbformat_minor": 5
}
