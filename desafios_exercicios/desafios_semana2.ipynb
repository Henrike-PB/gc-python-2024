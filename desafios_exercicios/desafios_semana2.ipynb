{
 "cells": [
  {
   "cell_type": "markdown",
   "id": "62e8786a-5d14-4266-a2d9-bb811ddee061",
   "metadata": {},
   "source": [
    "# 💻 **Exercícios - Aula 02:**\n",
    "\n",
    "4️⃣ Crie um programa em Python que solicite ao usuário que insira a sua idade. Com base na idade fornecida, o programa deve verificar se o usuário é menor de idade, maior de idade ou se está completando 18 anos.​​\n",
    "​​\n",
    " Se a idade for menor que 18 anos, o programa deve exibir \"Menor de idade!\".​​\n",
    "\n",
    " Se a idade for exatamente 18 anos, o programa deve exibir \"Feliz aniversário!\".​​\n",
    "\n",
    "Se a idade for maior que 18 anos, o programa deve exibir \"Maior de idade!\".\n",
    "\n",
    "5️⃣ Crie um programa em Python que utilize um laço de repetição para contar de 1 a 5. O programa deve exibir cada número da contagem, um por vez, na tela.​​\n",
    "\n",
    "Inicie a contagem em 1 e continue até alcançar o número 5.​​\n",
    "\n",
    "Para cada número, o programa deve exibir a mensagem \"Contagem: X\", onde X é o número atual da contagem.\n",
    "\n",
    "6️⃣ Crie um programa em Python que peça ao usuário para inserir o nome de três amigos. O programa deve armazenar esses nomes em uma lista e, em seguida, exibir uma mensagem personalizada para cada amigo, indicando que ele é seu amigo. ​​\n",
    "\n",
    "O programa deve solicitar o nome de três amigos, um por vez. ​​\n",
    "\n",
    "Após coletar os nomes, o programa deve exibir uma mensagem para cada nome na lista, como \"Nome_do_Amigo é meu amigo\"."
   ]
  },
  {
   "cell_type": "code",
   "execution_count": 25,
   "id": "374583ec-e025-4093-a969-8edf5bb36027",
   "metadata": {},
   "outputs": [
    {
     "name": "stdin",
     "output_type": "stream",
     "text": [
      "Qual é a sua idade?  18\n"
     ]
    },
    {
     "name": "stdout",
     "output_type": "stream",
     "text": [
      "Feliz aniversário!\n"
     ]
    }
   ],
   "source": [
    "# 04\n",
    "\n",
    "idade = int(input(\"Qual é a sua idade? \"))\n",
    "\n",
    "if idade == 18:\n",
    "    print(\"Feliz aniversário!\")\n",
    "elif idade > 18 and idade < 60:\n",
    "    print(\"Maior de idade\")\n",
    "elif idade >= 60:\n",
    "    print(\"Idoso!\")\n",
    "else:\n",
    "    print(\"Menor de idade!\")"
   ]
  },
  {
   "cell_type": "code",
   "execution_count": 27,
   "id": "6cfc3573-48b6-4897-a633-2550860ef0c5",
   "metadata": {},
   "outputs": [
    {
     "name": "stdout",
     "output_type": "stream",
     "text": [
      "1\n",
      "2\n",
      "3\n",
      "4\n",
      "5\n"
     ]
    }
   ],
   "source": [
    "# 05\n",
    "\n",
    "for i in range(1,6):\n",
    "    print(i)"
   ]
  },
  {
   "cell_type": "code",
   "execution_count": 28,
   "id": "c4dde8e9-d005-45d7-839a-12ef48108862",
   "metadata": {},
   "outputs": [
    {
     "name": "stdin",
     "output_type": "stream",
     "text": [
      "Insira o nome do amigo 1 nestor\n",
      "Insira o nome do amigo 2 gabriel\n",
      "Insira o nome do amigo 3 raul\n"
     ]
    },
    {
     "name": "stdout",
     "output_type": "stream",
     "text": [
      " nestor é meu amigo\n",
      " gabriel é meu amigo\n",
      " raul é meu amigo\n"
     ]
    }
   ],
   "source": [
    "#06\n",
    "\n",
    "amigo1 = input('Insira o nome do amigo 1')\n",
    "amigo2 = input('Insira o nome do amigo 2')\n",
    "amigo3 = input('Insira o nome do amigo 3')\n",
    "\n",
    "list = []\n",
    "\n",
    "list.append(amigo1)\n",
    "list.append(amigo2)\n",
    "list.append(amigo3)\n",
    "\n",
    "print(f\" {list[0]} é meu amigo\") \n",
    "print(f\" {list[1]} é meu amigo\") \n",
    "print(f\" {list[2]} é meu amigo\") \n",
    "\n"
   ]
  }
 ],
 "metadata": {
  "kernelspec": {
   "display_name": "Python 3 (ipykernel)",
   "language": "python",
   "name": "python3"
  },
  "language_info": {
   "codemirror_mode": {
    "name": "ipython",
    "version": 3
   },
   "file_extension": ".py",
   "mimetype": "text/x-python",
   "name": "python",
   "nbconvert_exporter": "python",
   "pygments_lexer": "ipython3",
   "version": "3.12.4"
  }
 },
 "nbformat": 4,
 "nbformat_minor": 5
}
