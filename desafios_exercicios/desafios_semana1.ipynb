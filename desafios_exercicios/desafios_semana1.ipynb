{
 "cells": [
  {
   "cell_type": "markdown",
   "id": "edd3617d-dfcb-4e62-b3c9-367cfd34694d",
   "metadata": {},
   "source": [
    "# 💻 Exercícios - Aula 01:\n",
    "1️⃣ Crie um programa que leia seu nome e imprima na tela.\\\n",
    "2️⃣ Crie um programa que receba 2 números e imprima a soma deles na tela.\\\n",
    "3️⃣ Crie um programa que leia 3 números, imprima o maior, o menor e a média aritmética"
   ]
  },
  {
   "cell_type": "code",
   "execution_count": 1,
   "id": "0f8de938-74af-4502-8b81-2f28c873f1a1",
   "metadata": {},
   "outputs": [
    {
     "name": "stdin",
     "output_type": "stream",
     "text": [
      "Qual é o seu nome?  henrike\n"
     ]
    },
    {
     "name": "stdout",
     "output_type": "stream",
     "text": [
      "henrike\n"
     ]
    }
   ],
   "source": [
    "# 01\n",
    "nome = input(\"Qual é o seu nome? \")\n",
    "print(nome)"
   ]
  },
  {
   "cell_type": "code",
   "execution_count": 3,
   "id": "2a0adcae-c588-4873-a772-4a8f8b6eaf3b",
   "metadata": {},
   "outputs": [
    {
     "name": "stdin",
     "output_type": "stream",
     "text": [
      "digite o primeiro valor 2\n",
      "digite o segundo valor 2\n"
     ]
    },
    {
     "name": "stdout",
     "output_type": "stream",
     "text": [
      "a soma de 2 + 2 é igual á 4\n"
     ]
    }
   ],
   "source": [
    "# 02\n",
    "a = int(input(\"digite o primeiro valor\"))\n",
    "b = int(input(\"digite o segundo valor\"))\n",
    "\n",
    "soma = a + b\n",
    "\n",
    "print(f\"a soma de {a} + {b} é igual á {soma}\")"
   ]
  },
  {
   "cell_type": "code",
   "execution_count": 6,
   "id": "dbfe3f7d-322f-4cab-a0d5-b1815353737c",
   "metadata": {},
   "outputs": [
    {
     "name": "stdin",
     "output_type": "stream",
     "text": [
      "digite o primeiro valor 4\n",
      "digite o segundo valor 8\n",
      "digite o terceiro valor 2\n"
     ]
    },
    {
     "name": "stdout",
     "output_type": "stream",
     "text": [
      "o maior valor é 8\n",
      "o menor valor é 2\n",
      "a média aritmética de 4, 8 e 2 é 12.666666666666666.\n"
     ]
    }
   ],
   "source": [
    "# 03\n",
    "\n",
    "list = []\n",
    "\n",
    "a = int(input(\"digite o primeiro valor\"))\n",
    "b = int(input(\"digite o segundo valor\"))\n",
    "c = int(input(\"digite o terceiro valor\"))\n",
    "\n",
    "list.append(a)\n",
    "list.append(b)\n",
    "list.append(c)\n",
    "\n",
    "num_maior = max(list)\n",
    "num_menor = min(list)\n",
    "media_aritmetica = a + b + c / len(list) \n",
    "\n",
    "print(f\"o maior valor é {num_maior}\")\n",
    "print(f\"o menor valor é {num_menor}\")\n",
    "print(f\"a média aritmética de {a}, {b} e {c} é {media_aritmetica}.\")\n"
   ]
  }
 ],
 "metadata": {
  "kernelspec": {
   "display_name": "Python 3 (ipykernel)",
   "language": "python",
   "name": "python3"
  },
  "language_info": {
   "codemirror_mode": {
    "name": "ipython",
    "version": 3
   },
   "file_extension": ".py",
   "mimetype": "text/x-python",
   "name": "python",
   "nbconvert_exporter": "python",
   "pygments_lexer": "ipython3",
   "version": "3.12.4"
  }
 },
 "nbformat": 4,
 "nbformat_minor": 5
}
