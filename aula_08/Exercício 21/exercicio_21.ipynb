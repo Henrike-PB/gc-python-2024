{
 "cells": [
  {
   "cell_type": "markdown",
   "id": "c7fd832d-fed9-4b40-8176-43d409c5eedd",
   "metadata": {},
   "source": [
    " # Exercício 21\n",
    "## Análise dos dados da COVID-19 Dataset\n",
    "### Com base no dataset de dados da COVID-19:\n",
    "JHU CSSE COVID-19 https://github.com/owid/covid-19-data/tree/master/public/data \\\n",
    "dataset wcota https://github.com/wcota/covid19br \\\n",
    "você deverá realizar uma análise exploratória e responder as seguintes perguntas utilizando Python."
   ]
  },
  {
   "cell_type": "code",
   "execution_count": null,
   "id": "4c0a5fcd-8aef-4732-8731-0cdee9da524c",
   "metadata": {},
   "outputs": [],
   "source": []
  }
 ],
 "metadata": {
  "kernelspec": {
   "display_name": "Python 3 (ipykernel)",
   "language": "python",
   "name": "python3"
  },
  "language_info": {
   "codemirror_mode": {
    "name": "ipython",
    "version": 3
   },
   "file_extension": ".py",
   "mimetype": "text/x-python",
   "name": "python",
   "nbconvert_exporter": "python",
   "pygments_lexer": "ipython3",
   "version": "3.12.4"
  }
 },
 "nbformat": 4,
 "nbformat_minor": 5
}
