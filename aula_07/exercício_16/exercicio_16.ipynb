{
 "cells": [
  {
   "cell_type": "markdown",
   "id": "53ddd105-71b2-48f9-b1d5-0ccf7bf1cf71",
   "metadata": {},
   "source": [
    " # Exercício 16\n",
    "## Considere o dataset 16_dataset_notas_alunos.csv (ver nos recursos da aula no Discord). Então, extraia as seguintes informações:"
   ]
  },
  {
   "cell_type": "code",
   "execution_count": 2,
   "id": "dd4c7eec-e8d2-45b9-b45d-6a215a1f1e92",
   "metadata": {},
   "outputs": [
    {
     "data": {
      "text/html": [
       "<div>\n",
       "<style scoped>\n",
       "    .dataframe tbody tr th:only-of-type {\n",
       "        vertical-align: middle;\n",
       "    }\n",
       "\n",
       "    .dataframe tbody tr th {\n",
       "        vertical-align: top;\n",
       "    }\n",
       "\n",
       "    .dataframe thead th {\n",
       "        text-align: right;\n",
       "    }\n",
       "</style>\n",
       "<table border=\"1\" class=\"dataframe\">\n",
       "  <thead>\n",
       "    <tr style=\"text-align: right;\">\n",
       "      <th></th>\n",
       "      <th>Aluno</th>\n",
       "      <th>Idade</th>\n",
       "      <th>Matemática</th>\n",
       "      <th>Ciências</th>\n",
       "    </tr>\n",
       "  </thead>\n",
       "  <tbody>\n",
       "    <tr>\n",
       "      <th>0</th>\n",
       "      <td>1</td>\n",
       "      <td>17</td>\n",
       "      <td>67</td>\n",
       "      <td>60</td>\n",
       "    </tr>\n",
       "    <tr>\n",
       "      <th>1</th>\n",
       "      <td>2</td>\n",
       "      <td>15</td>\n",
       "      <td>83</td>\n",
       "      <td>78</td>\n",
       "    </tr>\n",
       "    <tr>\n",
       "      <th>2</th>\n",
       "      <td>3</td>\n",
       "      <td>17</td>\n",
       "      <td>70</td>\n",
       "      <td>61</td>\n",
       "    </tr>\n",
       "    <tr>\n",
       "      <th>3</th>\n",
       "      <td>4</td>\n",
       "      <td>17</td>\n",
       "      <td>76</td>\n",
       "      <td>85</td>\n",
       "    </tr>\n",
       "    <tr>\n",
       "      <th>4</th>\n",
       "      <td>5</td>\n",
       "      <td>15</td>\n",
       "      <td>67</td>\n",
       "      <td>91</td>\n",
       "    </tr>\n",
       "    <tr>\n",
       "      <th>...</th>\n",
       "      <td>...</td>\n",
       "      <td>...</td>\n",
       "      <td>...</td>\n",
       "      <td>...</td>\n",
       "    </tr>\n",
       "    <tr>\n",
       "      <th>95</th>\n",
       "      <td>96</td>\n",
       "      <td>15</td>\n",
       "      <td>87</td>\n",
       "      <td>71</td>\n",
       "    </tr>\n",
       "    <tr>\n",
       "      <th>96</th>\n",
       "      <td>97</td>\n",
       "      <td>15</td>\n",
       "      <td>82</td>\n",
       "      <td>81</td>\n",
       "    </tr>\n",
       "    <tr>\n",
       "      <th>97</th>\n",
       "      <td>98</td>\n",
       "      <td>17</td>\n",
       "      <td>96</td>\n",
       "      <td>81</td>\n",
       "    </tr>\n",
       "    <tr>\n",
       "      <th>98</th>\n",
       "      <td>99</td>\n",
       "      <td>15</td>\n",
       "      <td>91</td>\n",
       "      <td>89</td>\n",
       "    </tr>\n",
       "    <tr>\n",
       "      <th>99</th>\n",
       "      <td>100</td>\n",
       "      <td>15</td>\n",
       "      <td>92</td>\n",
       "      <td>97</td>\n",
       "    </tr>\n",
       "  </tbody>\n",
       "</table>\n",
       "<p>100 rows × 4 columns</p>\n",
       "</div>"
      ],
      "text/plain": [
       "    Aluno  Idade  Matemática  Ciências\n",
       "0       1     17          67        60\n",
       "1       2     15          83        78\n",
       "2       3     17          70        61\n",
       "3       4     17          76        85\n",
       "4       5     15          67        91\n",
       "..    ...    ...         ...       ...\n",
       "95     96     15          87        71\n",
       "96     97     15          82        81\n",
       "97     98     17          96        81\n",
       "98     99     15          91        89\n",
       "99    100     15          92        97\n",
       "\n",
       "[100 rows x 4 columns]"
      ]
     },
     "execution_count": 2,
     "metadata": {},
     "output_type": "execute_result"
    }
   ],
   "source": [
    "import pandas as pd\n",
    "\n",
    "notas_alunos = pd.read_csv('16_dataset_notas_alunos.csv')\n",
    "notas_alunos"
   ]
  },
  {
   "cell_type": "markdown",
   "id": "59a3aa6e-0560-41e5-a1be-7b5c704afaf5",
   "metadata": {},
   "source": [
    "## 1. Calcule a média das notas em Matemática e Ciências."
   ]
  },
  {
   "cell_type": "code",
   "execution_count": 3,
   "id": "2a1e16d7-63a6-4939-a409-d4e683e2aa4d",
   "metadata": {},
   "outputs": [
    {
     "name": "stdout",
     "output_type": "stream",
     "text": [
      "A média das notas de Matemática é 81.57.\n"
     ]
    }
   ],
   "source": [
    "media_matematica = notas_alunos['Matemática'].mean()\n",
    "print(f'A média das notas de Matemática é {media_matematica}.')"
   ]
  },
  {
   "cell_type": "code",
   "execution_count": 4,
   "id": "71c9d07d-cfda-4f2c-ae92-3fca4e9635c1",
   "metadata": {},
   "outputs": [
    {
     "name": "stdout",
     "output_type": "stream",
     "text": [
      "A média das notas é 80.26.\n"
     ]
    }
   ],
   "source": [
    "media_ciencias = notas_alunos['Ciências'].mean()\n",
    "print(f'A média das notas é {media_ciencias}.')"
   ]
  },
  {
   "cell_type": "markdown",
   "id": "2d07fd4a-20f8-424b-969a-3ccdd0d24310",
   "metadata": {},
   "source": [
    "## 2. Encontre a mediana das notas em Matemática e Ciências."
   ]
  },
  {
   "cell_type": "code",
   "execution_count": 6,
   "id": "4fd2223b-c449-490b-a415-00f54095cfb4",
   "metadata": {},
   "outputs": [
    {
     "name": "stdout",
     "output_type": "stream",
     "text": [
      "A mediana de Matemática é 84.5.\n"
     ]
    }
   ],
   "source": [
    "mediana_matematica = notas_alunos['Matemática'].median()\n",
    "print(f'A mediana de Matemática é {mediana_matematica}.')"
   ]
  },
  {
   "cell_type": "code",
   "execution_count": 7,
   "id": "779c5b3a-1ccd-48ed-a356-e273961743fd",
   "metadata": {},
   "outputs": [
    {
     "name": "stdout",
     "output_type": "stream",
     "text": [
      "A mediana de Ciências é 79.5.\n"
     ]
    }
   ],
   "source": [
    "mediana_ciencias = notas_alunos['Ciências'].median()\n",
    "print(f'A mediana de Ciências é {mediana_ciencias}.')"
   ]
  },
  {
   "cell_type": "markdown",
   "id": "70f9035f-3b18-468a-96a7-cc60ac13bfe8",
   "metadata": {},
   "source": [
    "## 3. Determine a moda das notas em Matemática e Ciências."
   ]
  },
  {
   "cell_type": "code",
   "execution_count": 9,
   "id": "4bd5f75b-1ca6-4a96-9e6e-d3acd28d6af0",
   "metadata": {},
   "outputs": [
    {
     "name": "stdout",
     "output_type": "stream",
     "text": [
      "A moda de Matemática é 98.\n"
     ]
    }
   ],
   "source": [
    "moda_matematica = notas_alunos['Matemática'].mode()[0]\n",
    "print(f'A moda de Matemática é {moda_matematica}.')"
   ]
  },
  {
   "cell_type": "code",
   "execution_count": 10,
   "id": "b9669846-84bc-4914-8133-6266b6269ea5",
   "metadata": {},
   "outputs": [
    {
     "name": "stdout",
     "output_type": "stream",
     "text": [
      "A moda de Ciências é 92.\n"
     ]
    }
   ],
   "source": [
    "moda_ciencias = notas_alunos['Ciências'].mode()[0]\n",
    "print(f'A moda de Ciências é {moda_ciencias}.')"
   ]
  },
  {
   "cell_type": "markdown",
   "id": "23797114-1ba7-4726-ade9-2ff773d6dacd",
   "metadata": {},
   "source": [
    "# 4. Calcule a amplitude das notas em Matemática e Ciências."
   ]
  },
  {
   "cell_type": "code",
   "execution_count": 11,
   "id": "dc3be9c3-27a0-4286-af63-55e5577ea5e2",
   "metadata": {},
   "outputs": [
    {
     "name": "stdout",
     "output_type": "stream",
     "text": [
      "A amplitude de Matemática é 40.\n"
     ]
    }
   ],
   "source": [
    "amplitude_matematica = notas_alunos['Matemática'].max() - notas_alunos['Matemática'].min()\n",
    "print(f'A amplitude de Matemática é {amplitude_matematica}.')"
   ]
  },
  {
   "cell_type": "code",
   "execution_count": 13,
   "id": "82f16b30-ec98-45ef-bd90-60ac31c23780",
   "metadata": {},
   "outputs": [
    {
     "name": "stdout",
     "output_type": "stream",
     "text": [
      "A amplitude de Ciências é 40.\n"
     ]
    }
   ],
   "source": [
    "amplitude_ciencias = notas_alunos['Ciências'].max() - notas_alunos['Ciências'].min()\n",
    "print(f'A amplitude de Ciências é {amplitude_ciencias}.')"
   ]
  },
  {
   "cell_type": "markdown",
   "id": "7b4066db-f39b-4fdb-bad3-8991530459d1",
   "metadata": {},
   "source": [
    "## 5. Calcule a variância das notas em Matemática e Ciências."
   ]
  },
  {
   "cell_type": "code",
   "execution_count": 15,
   "id": "50862c46-9512-4c3e-a770-4fca7ac412cd",
   "metadata": {},
   "outputs": [
    {
     "name": "stdout",
     "output_type": "stream",
     "text": [
      "A variância de Matemática é 160.75262626262628\n"
     ]
    }
   ],
   "source": [
    "variancia_matematica = notas_alunos['Matemática'].var()\n",
    "print(f'A variância de Matemática é {variancia_matematica}')"
   ]
  },
  {
   "cell_type": "code",
   "execution_count": 16,
   "id": "11e52a01-3dfe-4023-b251-849cac37eb50",
   "metadata": {},
   "outputs": [
    {
     "name": "stdout",
     "output_type": "stream",
     "text": [
      "A variância de Ciências é 150.1539393939394\n"
     ]
    }
   ],
   "source": [
    "variancia_ciencias = notas_alunos['Ciências'].var()\n",
    "print(f'A variância de Ciências é {variancia_ciencias}')"
   ]
  },
  {
   "cell_type": "markdown",
   "id": "f7606881-b51d-499c-b76f-bd20d22ff7d6",
   "metadata": {},
   "source": [
    "## 6. Calcule o desvio padrão das notas em Matemática e Ciências."
   ]
  },
  {
   "cell_type": "code",
   "execution_count": 17,
   "id": "d3118ce2-1702-45be-99a8-8932d56156ed",
   "metadata": {},
   "outputs": [
    {
     "name": "stdout",
     "output_type": "stream",
     "text": [
      "O desvio padrão de Matemática é 12.678825902370704\n"
     ]
    }
   ],
   "source": [
    "desvio_padrao_matematica = notas_alunos['Matemática'].std()\n",
    "print(f'O desvio padrão de Matemática é {desvio_padrao_matematica}')"
   ]
  },
  {
   "cell_type": "code",
   "execution_count": 18,
   "id": "7ab7348d-a4fb-4dc6-8f03-a4c0cc6037c4",
   "metadata": {},
   "outputs": [
    {
     "name": "stdout",
     "output_type": "stream",
     "text": [
      "O desvio padrão de Ciências é 12.253731651784259\n"
     ]
    }
   ],
   "source": [
    "desvio_padrao_ciencias = notas_alunos['Ciências'].std()\n",
    "print(f'O desvio padrão de Ciências é {desvio_padrao_ciencias}')"
   ]
  },
  {
   "cell_type": "markdown",
   "id": "7df32a5d-61c2-4459-92d5-aa471926c0f4",
   "metadata": {},
   "source": [
    "## 7. Calcule a covariância entre as notas de Matemática e Ciências."
   ]
  },
  {
   "cell_type": "code",
   "execution_count": 19,
   "id": "633ecd47-1c54-4291-b907-196ee5c36b19",
   "metadata": {},
   "outputs": [
    {
     "name": "stdout",
     "output_type": "stream",
     "text": [
      "A covariância de Matemática e Ciências é 9.133131313131308.\n"
     ]
    }
   ],
   "source": [
    "covariancia = notas_alunos[['Matemática', 'Ciências']].cov().iloc[0, 1]\n",
    "print(f'A covariância de Matemática e Ciências é {covariancia}.')"
   ]
  },
  {
   "cell_type": "markdown",
   "id": "2563fcb6-79d6-411a-94d6-074e9801a42e",
   "metadata": {},
   "source": [
    "## 8. Calcule a correlação entre as notas de Matemática e Ciências."
   ]
  },
  {
   "cell_type": "code",
   "execution_count": 20,
   "id": "0146fb38-7f03-4b5c-bb2a-e98e7ba9fdde",
   "metadata": {},
   "outputs": [
    {
     "name": "stdout",
     "output_type": "stream",
     "text": [
      "A correlação de Matemática e Ciências é 0.058785781765414935.\n"
     ]
    }
   ],
   "source": [
    "correlacao = notas_alunos[['Matemática', 'Ciências']].corr().iloc[0, 1]\n",
    "print(f'A correlação de Matemática e Ciências é {correlacao}.')"
   ]
  },
  {
   "cell_type": "code",
   "execution_count": null,
   "id": "2c2425e2-bd44-41a8-ae71-5e6c932cef34",
   "metadata": {},
   "outputs": [],
   "source": []
  }
 ],
 "metadata": {
  "kernelspec": {
   "display_name": "Python 3 (ipykernel)",
   "language": "python",
   "name": "python3"
  },
  "language_info": {
   "codemirror_mode": {
    "name": "ipython",
    "version": 3
   },
   "file_extension": ".py",
   "mimetype": "text/x-python",
   "name": "python",
   "nbconvert_exporter": "python",
   "pygments_lexer": "ipython3",
   "version": "3.12.4"
  }
 },
 "nbformat": 4,
 "nbformat_minor": 5
}
