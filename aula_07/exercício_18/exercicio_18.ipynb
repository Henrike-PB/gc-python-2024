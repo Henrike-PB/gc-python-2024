{
 "cells": [
  {
   "cell_type": "markdown",
   "id": "3783d7e1-cd4a-438a-a37e-de86e7feb599",
   "metadata": {},
   "source": [
    "# Exercício 18 (MINI BOSS): Análise de Desempenho Escolar\n",
    "## Você é um cientista de dados contratado por uma escola para analisar o desempenho de três turmas (Turma A, Turma B, Turma C) em duas disciplinas: Matemática e Ciências.\n",
    "### O objetivo é gerar um relatório completo utilizando as medidas estatísticas estudadas para entender o desempenho geral dos alunos e descobrir padrões importantes.\n"
   ]
  },
  {
   "cell_type": "markdown",
   "id": "bed2dca8-6ce2-4303-bd85-a8e02e23c29e",
   "metadata": {},
   "source": [
    "# Tarefas:\n"
   ]
  },
  {
   "cell_type": "markdown",
   "id": "85a2480f-796d-4a05-93af-e020730cbd33",
   "metadata": {},
   "source": [
    "## 1. Carregar o dataset que contém as notas dos alunos das três turmas. O arquivo chama 18_analise_avancada.csv."
   ]
  },
  {
   "cell_type": "code",
   "execution_count": 1,
   "id": "69a72f08-7423-44d0-aaf1-4772f16157ee",
   "metadata": {},
   "outputs": [
    {
     "data": {
      "text/html": [
       "<div>\n",
       "<style scoped>\n",
       "    .dataframe tbody tr th:only-of-type {\n",
       "        vertical-align: middle;\n",
       "    }\n",
       "\n",
       "    .dataframe tbody tr th {\n",
       "        vertical-align: top;\n",
       "    }\n",
       "\n",
       "    .dataframe thead th {\n",
       "        text-align: right;\n",
       "    }\n",
       "</style>\n",
       "<table border=\"1\" class=\"dataframe\">\n",
       "  <thead>\n",
       "    <tr style=\"text-align: right;\">\n",
       "      <th></th>\n",
       "      <th>Turma</th>\n",
       "      <th>Matemática</th>\n",
       "      <th>Ciências</th>\n",
       "    </tr>\n",
       "  </thead>\n",
       "  <tbody>\n",
       "    <tr>\n",
       "      <th>0</th>\n",
       "      <td>C</td>\n",
       "      <td>83</td>\n",
       "      <td>96</td>\n",
       "    </tr>\n",
       "    <tr>\n",
       "      <th>1</th>\n",
       "      <td>A</td>\n",
       "      <td>47</td>\n",
       "      <td>91</td>\n",
       "    </tr>\n",
       "    <tr>\n",
       "      <th>2</th>\n",
       "      <td>C</td>\n",
       "      <td>63</td>\n",
       "      <td>52</td>\n",
       "    </tr>\n",
       "    <tr>\n",
       "      <th>3</th>\n",
       "      <td>C</td>\n",
       "      <td>50</td>\n",
       "      <td>80</td>\n",
       "    </tr>\n",
       "    <tr>\n",
       "      <th>4</th>\n",
       "      <td>A</td>\n",
       "      <td>90</td>\n",
       "      <td>42</td>\n",
       "    </tr>\n",
       "    <tr>\n",
       "      <th>...</th>\n",
       "      <td>...</td>\n",
       "      <td>...</td>\n",
       "      <td>...</td>\n",
       "    </tr>\n",
       "    <tr>\n",
       "      <th>95</th>\n",
       "      <td>A</td>\n",
       "      <td>78</td>\n",
       "      <td>79</td>\n",
       "    </tr>\n",
       "    <tr>\n",
       "      <th>96</th>\n",
       "      <td>A</td>\n",
       "      <td>72</td>\n",
       "      <td>78</td>\n",
       "    </tr>\n",
       "    <tr>\n",
       "      <th>97</th>\n",
       "      <td>C</td>\n",
       "      <td>40</td>\n",
       "      <td>57</td>\n",
       "    </tr>\n",
       "    <tr>\n",
       "      <th>98</th>\n",
       "      <td>A</td>\n",
       "      <td>96</td>\n",
       "      <td>79</td>\n",
       "    </tr>\n",
       "    <tr>\n",
       "      <th>99</th>\n",
       "      <td>A</td>\n",
       "      <td>66</td>\n",
       "      <td>40</td>\n",
       "    </tr>\n",
       "  </tbody>\n",
       "</table>\n",
       "<p>100 rows × 3 columns</p>\n",
       "</div>"
      ],
      "text/plain": [
       "   Turma  Matemática  Ciências\n",
       "0      C          83        96\n",
       "1      A          47        91\n",
       "2      C          63        52\n",
       "3      C          50        80\n",
       "4      A          90        42\n",
       "..   ...         ...       ...\n",
       "95     A          78        79\n",
       "96     A          72        78\n",
       "97     C          40        57\n",
       "98     A          96        79\n",
       "99     A          66        40\n",
       "\n",
       "[100 rows x 3 columns]"
      ]
     },
     "execution_count": 1,
     "metadata": {},
     "output_type": "execute_result"
    }
   ],
   "source": [
    "import pandas as pd\n",
    "\n",
    "analise_avancada = pd.read_csv('18_analise_avancada.csv')\n",
    "analise_avancada"
   ]
  },
  {
   "cell_type": "markdown",
   "id": "0c0bccbb-2ed8-4cc3-b7df-3e8fa17cf37b",
   "metadata": {},
   "source": [
    "## 2. Calcular as seguintes medidas estatísticas para cada turma (A, B e C) em Matemática e Ciências:\n",
    "\n",
    "a. Média\\\n",
    "b. Mediana\\\n",
    "c. Moda\\\n",
    "d. Amplitude (diferença entre a maior e a menor nota)\\\n",
    "e. Variância\\\n",
    "f. Desvio Padrão\\\n",
    "g. Covariância e Correlação entre Matemática e Ciências"
   ]
  },
  {
   "cell_type": "code",
   "execution_count": 14,
   "id": "5d5d97f8-f420-47f7-aebe-6175a3087a78",
   "metadata": {},
   "outputs": [],
   "source": [
    "# turma_a = analise_avancada['Turma'] == 'A'\n",
    "# turma_b = analise_avancada['Turma'] == 'B'\n",
    "# turma_c = analise_avancada['Turma'] == 'C'\n"
   ]
  }
 ],
 "metadata": {
  "kernelspec": {
   "display_name": "Python 3 (ipykernel)",
   "language": "python",
   "name": "python3"
  },
  "language_info": {
   "codemirror_mode": {
    "name": "ipython",
    "version": 3
   },
   "file_extension": ".py",
   "mimetype": "text/x-python",
   "name": "python",
   "nbconvert_exporter": "python",
   "pygments_lexer": "ipython3",
   "version": "3.12.4"
  }
 },
 "nbformat": 4,
 "nbformat_minor": 5
}
