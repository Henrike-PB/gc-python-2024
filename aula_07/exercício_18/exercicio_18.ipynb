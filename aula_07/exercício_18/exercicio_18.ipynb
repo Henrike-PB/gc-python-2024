{
 "cells": [
  {
   "cell_type": "markdown",
   "id": "3783d7e1-cd4a-438a-a37e-de86e7feb599",
   "metadata": {},
   "source": [
    "# Exercício 18 (MINI BOSS): Análise de Desempenho Escolar\n",
    "## Você é um cientista de dados contratado por uma escola para analisar o desempenho de três turmas (Turma A, Turma B, Turma C) em duas disciplinas: Matemática e Ciências.\n",
    "### O objetivo é gerar um relatório completo utilizando as medidas estatísticas estudadas para entender o desempenho geral dos alunos e descobrir padrões importantes.\n"
   ]
  },
  {
   "cell_type": "markdown",
   "id": "bed2dca8-6ce2-4303-bd85-a8e02e23c29e",
   "metadata": {},
   "source": [
    "# Tarefas:\n"
   ]
  },
  {
   "cell_type": "markdown",
   "id": "85a2480f-796d-4a05-93af-e020730cbd33",
   "metadata": {},
   "source": [
    "## 1. Carregar o dataset que contém as notas dos alunos das três turmas. O arquivo chama 18_analise_avancada.csv."
   ]
  },
  {
   "cell_type": "code",
   "execution_count": 3,
   "id": "69a72f08-7423-44d0-aaf1-4772f16157ee",
   "metadata": {},
   "outputs": [
    {
     "data": {
      "text/html": [
       "<div>\n",
       "<style scoped>\n",
       "    .dataframe tbody tr th:only-of-type {\n",
       "        vertical-align: middle;\n",
       "    }\n",
       "\n",
       "    .dataframe tbody tr th {\n",
       "        vertical-align: top;\n",
       "    }\n",
       "\n",
       "    .dataframe thead th {\n",
       "        text-align: right;\n",
       "    }\n",
       "</style>\n",
       "<table border=\"1\" class=\"dataframe\">\n",
       "  <thead>\n",
       "    <tr style=\"text-align: right;\">\n",
       "      <th></th>\n",
       "      <th>Turma</th>\n",
       "      <th>Matemática</th>\n",
       "      <th>Ciências</th>\n",
       "    </tr>\n",
       "  </thead>\n",
       "  <tbody>\n",
       "    <tr>\n",
       "      <th>0</th>\n",
       "      <td>C</td>\n",
       "      <td>83</td>\n",
       "      <td>96</td>\n",
       "    </tr>\n",
       "    <tr>\n",
       "      <th>1</th>\n",
       "      <td>A</td>\n",
       "      <td>47</td>\n",
       "      <td>91</td>\n",
       "    </tr>\n",
       "    <tr>\n",
       "      <th>2</th>\n",
       "      <td>C</td>\n",
       "      <td>63</td>\n",
       "      <td>52</td>\n",
       "    </tr>\n",
       "    <tr>\n",
       "      <th>3</th>\n",
       "      <td>C</td>\n",
       "      <td>50</td>\n",
       "      <td>80</td>\n",
       "    </tr>\n",
       "    <tr>\n",
       "      <th>4</th>\n",
       "      <td>A</td>\n",
       "      <td>90</td>\n",
       "      <td>42</td>\n",
       "    </tr>\n",
       "    <tr>\n",
       "      <th>...</th>\n",
       "      <td>...</td>\n",
       "      <td>...</td>\n",
       "      <td>...</td>\n",
       "    </tr>\n",
       "    <tr>\n",
       "      <th>95</th>\n",
       "      <td>A</td>\n",
       "      <td>78</td>\n",
       "      <td>79</td>\n",
       "    </tr>\n",
       "    <tr>\n",
       "      <th>96</th>\n",
       "      <td>A</td>\n",
       "      <td>72</td>\n",
       "      <td>78</td>\n",
       "    </tr>\n",
       "    <tr>\n",
       "      <th>97</th>\n",
       "      <td>C</td>\n",
       "      <td>40</td>\n",
       "      <td>57</td>\n",
       "    </tr>\n",
       "    <tr>\n",
       "      <th>98</th>\n",
       "      <td>A</td>\n",
       "      <td>96</td>\n",
       "      <td>79</td>\n",
       "    </tr>\n",
       "    <tr>\n",
       "      <th>99</th>\n",
       "      <td>A</td>\n",
       "      <td>66</td>\n",
       "      <td>40</td>\n",
       "    </tr>\n",
       "  </tbody>\n",
       "</table>\n",
       "<p>100 rows × 3 columns</p>\n",
       "</div>"
      ],
      "text/plain": [
       "   Turma  Matemática  Ciências\n",
       "0      C          83        96\n",
       "1      A          47        91\n",
       "2      C          63        52\n",
       "3      C          50        80\n",
       "4      A          90        42\n",
       "..   ...         ...       ...\n",
       "95     A          78        79\n",
       "96     A          72        78\n",
       "97     C          40        57\n",
       "98     A          96        79\n",
       "99     A          66        40\n",
       "\n",
       "[100 rows x 3 columns]"
      ]
     },
     "execution_count": 3,
     "metadata": {},
     "output_type": "execute_result"
    }
   ],
   "source": [
    "import pandas as pd\n",
    "\n",
    "analise_avancada = pd.read_csv('18_analise_avancada.csv')\n",
    "analise_avancada"
   ]
  },
  {
   "cell_type": "markdown",
   "id": "0c0bccbb-2ed8-4cc3-b7df-3e8fa17cf37b",
   "metadata": {},
   "source": [
    "## 2. Calcular as seguintes medidas estatísticas para cada turma (A, B e C) em Matemática e Ciências:\n",
    "\n",
    "a. Média\\\n",
    "b. Mediana\\\n",
    "c. Moda\\\n",
    "d. Amplitude (diferença entre a maior e a menor nota)\\\n",
    "e. Variância\\\n",
    "f. Desvio Padrão\\\n",
    "g. Covariância e Correlação entre Matemática e Ciências"
   ]
  },
  {
   "cell_type": "code",
   "execution_count": 14,
   "id": "5d5d97f8-f420-47f7-aebe-6175a3087a78",
   "metadata": {},
   "outputs": [],
   "source": [
    "# Filtrando o DF\n",
    "\n",
    "turma_a = analise_avancada[analise_avancada['Turma'] == 'A']\n",
    "turma_b = analise_avancada[analise_avancada['Turma'] == 'B']\n",
    "turma_c = analise_avancada[analise_avancada['Turma'] == 'C']\n"
   ]
  },
  {
   "cell_type": "markdown",
   "id": "705e2e9e-e379-47de-bff8-fe28c01d07c1",
   "metadata": {},
   "source": [
    "### a) Média:"
   ]
  },
  {
   "cell_type": "code",
   "execution_count": 18,
   "id": "1b9c9da1-7ff6-4a5f-bba9-bf8d0d9d0839",
   "metadata": {},
   "outputs": [
    {
     "name": "stdout",
     "output_type": "stream",
     "text": [
      "Média das notas:\n",
      "Matemática: 69.52\n",
      "Ciências: 70.39\n"
     ]
    }
   ],
   "source": [
    "# Turma A\n",
    "media_a = turma_a[['Matemática', 'Ciências']].mean()\n",
    "\n",
    "mensagem = f'''Média das notas:\n",
    "Matemática: {media_a['Matemática']:.2f}\n",
    "Ciências: {media_a['Ciências']:.2f}'''\n",
    "\n",
    "print(mensagem)\n"
   ]
  },
  {
   "cell_type": "code",
   "execution_count": 19,
   "id": "72d870ad-c1f4-4b56-a7ae-e9ff540a8156",
   "metadata": {},
   "outputs": [
    {
     "name": "stdout",
     "output_type": "stream",
     "text": [
      "Média das notas:\n",
      "Matemática: 70.89\n",
      "Ciências: 71.56\n"
     ]
    }
   ],
   "source": [
    "# Turma B\n",
    "media_b = turma_b[['Matemática', 'Ciências']].mean()\n",
    "\n",
    "mensagem = f'''Média das notas:\n",
    "Matemática: {media_b['Matemática']:.2f}\n",
    "Ciências: {media_b['Ciências']:.2f}'''\n",
    "\n",
    "print(mensagem)"
   ]
  },
  {
   "cell_type": "code",
   "execution_count": 20,
   "id": "7f1cc03e-a21b-4a1d-aff2-fcf0cfeba755",
   "metadata": {},
   "outputs": [
    {
     "name": "stdout",
     "output_type": "stream",
     "text": [
      "Média das notas:\n",
      "Matemática: 68.74\n",
      "Ciências: 67.58\n"
     ]
    }
   ],
   "source": [
    "# Turma C\n",
    "media_c = turma_c[['Matemática', 'Ciências']].mean()\n",
    "\n",
    "mensagem = f'''Média das notas:\n",
    "Matemática: {media_c['Matemática']:.2f}\n",
    "Ciências: {media_c['Ciências']:.2f}'''\n",
    "\n",
    "print(mensagem)"
   ]
  },
  {
   "cell_type": "markdown",
   "id": "06b09111-11f4-42c2-9ce1-629d171a7755",
   "metadata": {},
   "source": [
    "### b) Mediana:"
   ]
  },
  {
   "cell_type": "code",
   "execution_count": 26,
   "id": "1c5edb5d-b111-4fcf-ad3d-4692afd23d4e",
   "metadata": {},
   "outputs": [
    {
     "name": "stdout",
     "output_type": "stream",
     "text": [
      "Médiana das notas:\n",
      "Matemática: 68.00\n",
      "Ciências: 72.00\n"
     ]
    }
   ],
   "source": [
    "# Turma A\n",
    "mediana_a = turma_a[['Matemática', 'Ciências']].median()\n",
    "\n",
    "mensagem = f'''Médiana das notas:\n",
    "Matemática: {mediana_a['Matemática']:.2f}\n",
    "Ciências: {mediana_a['Ciências']:.2f}'''\n",
    "\n",
    "print(mensagem)"
   ]
  },
  {
   "cell_type": "code",
   "execution_count": 27,
   "id": "aabc9621-04f9-4996-be1f-684e32b171c5",
   "metadata": {},
   "outputs": [
    {
     "name": "stdout",
     "output_type": "stream",
     "text": [
      "Médiana das notas:\n",
      "Matemática: 71.00\n",
      "Ciências: 72.00\n"
     ]
    }
   ],
   "source": [
    "# Turma B\n",
    "mediana_b = turma_b[['Matemática', 'Ciências']].median()\n",
    "\n",
    "mensagem = f'''Médiana das notas:\n",
    "Matemática: {mediana_b['Matemática']:.2f}\n",
    "Ciências: {mediana_b['Ciências']:.2f}'''\n",
    "\n",
    "print(mensagem)"
   ]
  },
  {
   "cell_type": "code",
   "execution_count": 28,
   "id": "6eda820d-5022-425f-a543-86ba712462f0",
   "metadata": {},
   "outputs": [
    {
     "name": "stdout",
     "output_type": "stream",
     "text": [
      "Médiana das notas:\n",
      "Matemática: 74.00\n",
      "Ciências: 67.00\n"
     ]
    }
   ],
   "source": [
    "# Turma C\n",
    "mediana_c = turma_c[['Matemática', 'Ciências']].median()\n",
    "\n",
    "mensagem = f'''Médiana das notas:\n",
    "Matemática: {mediana_c['Matemática']:.2f}\n",
    "Ciências: {mediana_c['Ciências']:.2f}'''\n",
    "\n",
    "print(mensagem)"
   ]
  },
  {
   "cell_type": "markdown",
   "id": "c6cc8d42-731a-429f-95a3-7a0594076801",
   "metadata": {},
   "source": [
    "### c) Moda:"
   ]
  },
  {
   "cell_type": "code",
   "execution_count": 35,
   "id": "dc9a1ba6-1e5c-48e0-973e-bb1278a617c8",
   "metadata": {},
   "outputs": [
    {
     "name": "stdout",
     "output_type": "stream",
     "text": [
      "Moda das notas:\n",
      "Matemática: 94.0\n",
      "Ciências: 71.0\n"
     ]
    }
   ],
   "source": [
    "# Turma A\n",
    "moda_a = turma_a[['Matemática', 'Ciências']].mode().iloc[0]\n",
    "\n",
    "mensagem = f'''Moda das notas:\n",
    "Matemática: {moda_a['Matemática']}\n",
    "Ciências: {moda_a['Ciências']}'''\n",
    "\n",
    "print(mensagem)\n"
   ]
  },
  {
   "cell_type": "code",
   "execution_count": 36,
   "id": "311afd04-2ba2-47d3-9b7b-5122392d7aec",
   "metadata": {},
   "outputs": [
    {
     "name": "stdout",
     "output_type": "stream",
     "text": [
      "Moda das notas:\n",
      "Matemática: 54.0\n",
      "Ciências: 58.0\n"
     ]
    }
   ],
   "source": [
    "# Turma B\n",
    "moda_b = turma_b[['Matemática', 'Ciências']].mode().iloc[0]\n",
    "\n",
    "mensagem = f'''Moda das notas:\n",
    "Matemática: {moda_b['Matemática']}\n",
    "Ciências: {moda_b['Ciências']}'''\n",
    "\n",
    "print(mensagem)\n"
   ]
  },
  {
   "cell_type": "code",
   "execution_count": 37,
   "id": "7de88eeb-8a1b-4b27-85e8-7f6e5a9635f7",
   "metadata": {},
   "outputs": [
    {
     "name": "stdout",
     "output_type": "stream",
     "text": [
      "Moda das notas:\n",
      "Matemática: 78.0\n",
      "Ciências: 42.0\n"
     ]
    }
   ],
   "source": [
    "# Turma C\n",
    "moda_c = turma_c[['Matemática', 'Ciências']].mode().iloc[0]\n",
    "\n",
    "mensagem = f'''Moda das notas:\n",
    "Matemática: {moda_c['Matemática']}\n",
    "Ciências: {moda_c['Ciências']}'''\n",
    "\n",
    "print(mensagem)\n"
   ]
  },
  {
   "cell_type": "markdown",
   "id": "3947c122-f6c1-4893-9e4e-8e0550a52255",
   "metadata": {},
   "source": [
    "### d) Amplitude:"
   ]
  },
  {
   "cell_type": "code",
   "execution_count": 43,
   "id": "b2a8f6bf-1c2c-4ec6-9b87-ff724791f0f1",
   "metadata": {},
   "outputs": [
    {
     "name": "stdout",
     "output_type": "stream",
     "text": [
      "Amplitude das notas:\n",
      "Matemática: 57\n",
      "Ciências: 58\n"
     ]
    }
   ],
   "source": [
    "# Turma A\n",
    "\n",
    "amplitude = {\n",
    "    'Matemática': turma_a['Matemática'].max() - turma_a['Matemática'].min(),\n",
    "    'Ciências': turma_a['Ciências'].max() - turma_a['Ciências'].min()\n",
    "}\n",
    "\n",
    "mensagem = (\n",
    "    f'''Amplitude das notas:\n",
    "Matemática: {amplitude['Matemática']}\n",
    "Ciências: {amplitude['Ciências']}'''\n",
    ")\n",
    "\n",
    "print(mensagem)"
   ]
  },
  {
   "cell_type": "code",
   "execution_count": 44,
   "id": "ca190197-c168-4834-8c55-aa04f5fe15de",
   "metadata": {},
   "outputs": [
    {
     "name": "stdout",
     "output_type": "stream",
     "text": [
      "Amplitude das notas:\n",
      "Matemática: 53\n",
      "Ciências: 58\n"
     ]
    }
   ],
   "source": [
    "# Turma B\n",
    "\n",
    "amplitude = {\n",
    "    'Matemática': turma_b['Matemática'].max() - turma_b['Matemática'].min(),\n",
    "    'Ciências': turma_b['Ciências'].max() - turma_b['Ciências'].min()\n",
    "}\n",
    "\n",
    "mensagem = (\n",
    "    f'''Amplitude das notas:\n",
    "Matemática: {amplitude['Matemática']}\n",
    "Ciências: {amplitude['Ciências']}'''\n",
    ")\n",
    "\n",
    "print(mensagem)"
   ]
  },
  {
   "cell_type": "code",
   "execution_count": 45,
   "id": "fed1cb04-730f-4bb3-9963-374de9f6b79b",
   "metadata": {},
   "outputs": [
    {
     "name": "stdout",
     "output_type": "stream",
     "text": [
      "Amplitude das notas:\n",
      "Matemática: 60\n",
      "Ciências: 57\n"
     ]
    }
   ],
   "source": [
    "# Turma C\n",
    "\n",
    "amplitude = {\n",
    "    'Matemática': turma_c['Matemática'].max() - turma_c['Matemática'].min(),\n",
    "    'Ciências': turma_c['Ciências'].max() - turma_c['Ciências'].min()\n",
    "}\n",
    "\n",
    "mensagem = (\n",
    "    f'''Amplitude das notas:\n",
    "Matemática: {amplitude['Matemática']}\n",
    "Ciências: {amplitude['Ciências']}'''\n",
    ")\n",
    "\n",
    "print(mensagem)"
   ]
  },
  {
   "cell_type": "markdown",
   "id": "9a9533a1-f63d-4794-9cd7-b22bd438f684",
   "metadata": {},
   "source": [
    "### e) Variância:"
   ]
  },
  {
   "cell_type": "code",
   "execution_count": 50,
   "id": "a99ff01b-6012-4f08-8a9d-c59822356fd7",
   "metadata": {},
   "outputs": [
    {
     "name": "stdout",
     "output_type": "stream",
     "text": [
      "Variância das notas:\n",
      "    Matemática: 325.57\n",
      "    Ciências: 346.00\n",
      "\n"
     ]
    }
   ],
   "source": [
    "# Turma A\n",
    "\n",
    "variancia = {\n",
    "    'Matemática': turma_a['Matemática'].var(),\n",
    "    'Ciências': turma_a['Ciências'].var()\n",
    "}\n",
    "\n",
    "mensagem = (\n",
    "    f'''Variância das notas:\n",
    "    Matemática: {variancia['Matemática']:.2f}\n",
    "    Ciências: {variancia['Ciências']:.2f}\n",
    "'''\n",
    ")\n",
    "\n",
    "print(mensagem)"
   ]
  },
  {
   "cell_type": "code",
   "execution_count": 51,
   "id": "f35312ae-e850-4bef-99e3-ab45306c6c57",
   "metadata": {},
   "outputs": [
    {
     "name": "stdout",
     "output_type": "stream",
     "text": [
      "Variância das notas:\n",
      "    Matemática: 234.10\n",
      "    Ciências: 374.31\n",
      "\n"
     ]
    }
   ],
   "source": [
    "# Turma B\n",
    "\n",
    "variancia = {\n",
    "    'Matemática': turma_b['Matemática'].var(),\n",
    "    'Ciências': turma_b['Ciências'].var()\n",
    "}\n",
    "\n",
    "mensagem = (\n",
    "    f'''Variância das notas:\n",
    "    Matemática: {variancia['Matemática']:.2f}\n",
    "    Ciências: {variancia['Ciências']:.2f}\n",
    "'''\n",
    ")\n",
    "\n",
    "print(mensagem)"
   ]
  },
  {
   "cell_type": "code",
   "execution_count": 52,
   "id": "4a87a396-6da7-482b-a1f0-4baa0ab67b3a",
   "metadata": {},
   "outputs": [
    {
     "name": "stdout",
     "output_type": "stream",
     "text": [
      "Variância das notas:\n",
      "    Matemática: 308.00\n",
      "    Ciências: 347.32\n",
      "\n"
     ]
    }
   ],
   "source": [
    "# Turma C\n",
    "\n",
    "variancia = {\n",
    "    'Matemática': turma_c['Matemática'].var(),\n",
    "    'Ciências': turma_c['Ciências'].var()\n",
    "}\n",
    "\n",
    "mensagem = (\n",
    "    f'''Variância das notas:\n",
    "    Matemática: {variancia['Matemática']:.2f}\n",
    "    Ciências: {variancia['Ciências']:.2f}\n",
    "'''\n",
    ")\n",
    "\n",
    "print(mensagem)"
   ]
  },
  {
   "cell_type": "markdown",
   "id": "5cd5a415-d986-4eb0-8e73-e07a8b113936",
   "metadata": {},
   "source": [
    "### f) Desvio Padrão:"
   ]
  },
  {
   "cell_type": "code",
   "execution_count": 53,
   "id": "d8687fc4-1b54-4e30-a8c3-1d3f18e4a07c",
   "metadata": {},
   "outputs": [
    {
     "name": "stdout",
     "output_type": "stream",
     "text": [
      "Desvio Padrão das notas:\n",
      "    Matemática: 18.04\n",
      "    Ciências: 18.60\n",
      "\n"
     ]
    }
   ],
   "source": [
    "# Turma A\n",
    "\n",
    "desvio_padrao = {\n",
    "    'Matemática': turma_a['Matemática'].std(),\n",
    "    'Ciências': turma_a['Ciências'].std()\n",
    "}\n",
    "\n",
    "mensagem = (\n",
    "    f'''Desvio Padrão das notas:\n",
    "    Matemática: {desvio_padrao['Matemática']:.2f}\n",
    "    Ciências: {desvio_padrao['Ciências']:.2f}\n",
    "'''\n",
    ")\n",
    "\n",
    "print(mensagem)"
   ]
  },
  {
   "cell_type": "code",
   "execution_count": 54,
   "id": "56e75769-9749-458b-88d3-836929c994cc",
   "metadata": {},
   "outputs": [
    {
     "name": "stdout",
     "output_type": "stream",
     "text": [
      "Desvio Padrão das notas:\n",
      "    Matemática: 15.30\n",
      "    Ciências: 19.35\n",
      "\n"
     ]
    }
   ],
   "source": [
    "# Turma B\n",
    "\n",
    "desvio_padrao = {\n",
    "    'Matemática': turma_b['Matemática'].std(),\n",
    "    'Ciências': turma_b['Ciências'].std()\n",
    "}\n",
    "\n",
    "mensagem = (\n",
    "    f'''Desvio Padrão das notas:\n",
    "    Matemática: {desvio_padrao['Matemática']:.2f}\n",
    "    Ciências: {desvio_padrao['Ciências']:.2f}\n",
    "'''\n",
    ")\n",
    "\n",
    "print(mensagem)"
   ]
  },
  {
   "cell_type": "code",
   "execution_count": 55,
   "id": "f84c17aa-eb73-4df5-81f3-c6a760003231",
   "metadata": {},
   "outputs": [
    {
     "name": "stdout",
     "output_type": "stream",
     "text": [
      "Desvio Padrão das notas:\n",
      "    Matemática: 17.55\n",
      "    Ciências: 18.64\n",
      "\n"
     ]
    }
   ],
   "source": [
    "# Turma C\n",
    "\n",
    "desvio_padrao = {\n",
    "    'Matemática': turma_c['Matemática'].std(),\n",
    "    'Ciências': turma_c['Ciências'].std()\n",
    "}\n",
    "\n",
    "mensagem = (\n",
    "    f'''Desvio Padrão das notas:\n",
    "    Matemática: {desvio_padrao['Matemática']:.2f}\n",
    "    Ciências: {desvio_padrao['Ciências']:.2f}\n",
    "'''\n",
    ")\n",
    "\n",
    "print(mensagem)"
   ]
  },
  {
   "cell_type": "markdown",
   "id": "371a0272-91cf-4cc4-8167-17b157659dca",
   "metadata": {},
   "source": [
    "### g)  Covariância e Correlação entre Matemática e Ciência:"
   ]
  },
  {
   "cell_type": "code",
   "execution_count": 56,
   "id": "052dea7b-5f4f-4bf5-a9a4-b9ed195055a7",
   "metadata": {},
   "outputs": [
    {
     "name": "stdout",
     "output_type": "stream",
     "text": [
      "Covariância e Correlação das notas:\n",
      "    Covariância (Matemática e Ciências): -68.65\n",
      "    Correlação (Matemática e Ciências): -0.20\n",
      "    \n"
     ]
    }
   ],
   "source": [
    "# Turma A\n",
    "\n",
    "cov_corr = {\n",
    "    'Covariância': turma_a[['Matemática', 'Ciências']].cov().iloc[0, 1],\n",
    "    'Correlação': turma_a[['Matemática', 'Ciências']].corr().iloc[0, 1]\n",
    "}\n",
    "\n",
    "mensagem = (\n",
    "    f'''Covariância e Correlação das notas:\n",
    "    Covariância (Matemática e Ciências): {cov_corr['Covariância']:.2f}\n",
    "    Correlação (Matemática e Ciências): {cov_corr['Correlação']:.2f}\n",
    "    '''\n",
    ")\n",
    "\n",
    "print(mensagem)"
   ]
  },
  {
   "cell_type": "code",
   "execution_count": 57,
   "id": "bcba43a1-868d-4f35-8ea1-dcc2eec69caa",
   "metadata": {},
   "outputs": [
    {
     "name": "stdout",
     "output_type": "stream",
     "text": [
      "Covariância e Correlação das notas:\n",
      "    Covariância (Matemática e Ciências): -25.17\n",
      "    Correlação (Matemática e Ciências): -0.09\n",
      "    \n"
     ]
    }
   ],
   "source": [
    "# Turma B\n",
    "\n",
    "cov_corr = {\n",
    "    'Covariância': turma_b[['Matemática', 'Ciências']].cov().iloc[0, 1],\n",
    "    'Correlação': turma_b[['Matemática', 'Ciências']].corr().iloc[0, 1]\n",
    "}\n",
    "\n",
    "mensagem = (\n",
    "    f'''Covariância e Correlação das notas:\n",
    "    Covariância (Matemática e Ciências): {cov_corr['Covariância']:.2f}\n",
    "    Correlação (Matemática e Ciências): {cov_corr['Correlação']:.2f}\n",
    "    '''\n",
    ")\n",
    "\n",
    "print(mensagem)"
   ]
  },
  {
   "cell_type": "code",
   "execution_count": 58,
   "id": "9ba46148-fbd8-4ce7-8130-7a6a276cef7c",
   "metadata": {},
   "outputs": [
    {
     "name": "stdout",
     "output_type": "stream",
     "text": [
      "Covariância e Correlação das notas:\n",
      "    Covariância (Matemática e Ciências): 77.05\n",
      "    Correlação (Matemática e Ciências): 0.24\n",
      "    \n"
     ]
    }
   ],
   "source": [
    "# Turma C\n",
    "\n",
    "cov_corr = {\n",
    "    'Covariância': turma_c[['Matemática', 'Ciências']].cov().iloc[0, 1],\n",
    "    'Correlação': turma_c[['Matemática', 'Ciências']].corr().iloc[0, 1]\n",
    "}\n",
    "\n",
    "mensagem = (\n",
    "    f'''Covariância e Correlação das notas:\n",
    "    Covariância (Matemática e Ciências): {cov_corr['Covariância']:.2f}\n",
    "    Correlação (Matemática e Ciências): {cov_corr['Correlação']:.2f}\n",
    "    '''\n",
    ")\n",
    "\n",
    "print(mensagem)"
   ]
  },
  {
   "cell_type": "markdown",
   "id": "000007a7-7f41-416e-a0d2-5d1b70cacf42",
   "metadata": {},
   "source": [
    "### Conclusões\n",
    "\n",
    "1. **Com base nas medidas acima, qual turma teve o melhor desempenho geral em Matemática e Ciências?**\n",
    "   - **Resposta**: A Turma B teve o melhor desempenho geral, com médias de 70.89 em Matemática e 71.56 em Ciências.\n",
    "\n",
    "2. **Qual turma tem as notas mais consistentes em termos de desvio padrão?**\n",
    "   - **Resposta**: A Turma B tem as notas mais consistentes, com desvios padrão de 15.30 em Matemática e 19.35 em Ciências, que são os menores entre as turmas.\n",
    "\n",
    "3. **Existe uma correlação entre o desempenho em Matemática e Ciências para cada turma? Essa correlação é positiva ou negativa?**\n",
    "   - **Resposta**:\n",
    "     - **Turma A**: Correlação de -0.20 (negativa)\n",
    "     - **Turma B**: Correlação de -0.09 (negativa)\n",
    "     - **Turma C**: Correlação de 0.24 (positiva)\n",
    "\n",
    "4. **Qual turma apresenta a maior amplitude de notas? O que isso nos diz sobre a desigualdade de desempenho dentro da turma?**\n",
    "   - **Resposta**: A Turma C apresenta a maior amplitude de notas em Matemática (60) e uma amplitude de 57 em Ciências. Isso indica que a Turma C tem a maior desigualdade de desempenho, com uma grande variação nas notas dos alunos.\n"
   ]
  }
 ],
 "metadata": {
  "kernelspec": {
   "display_name": "Python 3 (ipykernel)",
   "language": "python",
   "name": "python3"
  },
  "language_info": {
   "codemirror_mode": {
    "name": "ipython",
    "version": 3
   },
   "file_extension": ".py",
   "mimetype": "text/x-python",
   "name": "python",
   "nbconvert_exporter": "python",
   "pygments_lexer": "ipython3",
   "version": "3.12.4"
  }
 },
 "nbformat": 4,
 "nbformat_minor": 5
}
