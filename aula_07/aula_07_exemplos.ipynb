{
 "cells": [
  {
   "cell_type": "markdown",
   "id": "03465427-5962-4959-bf8f-694a3f4c2850",
   "metadata": {},
   "source": [
    "# Média, mediana, moda, variância e desvio padrão"
   ]
  },
  {
   "cell_type": "code",
   "execution_count": 6,
   "id": "8b395a22-e743-4230-a792-a4024ea6389f",
   "metadata": {},
   "outputs": [
    {
     "name": "stdout",
     "output_type": "stream",
     "text": [
      "Média: 7.6\n",
      "Mediana: 8.0\n",
      "Moda: 8\n",
      "Variância: 1.3\n",
      "Desvio Padrão: 1.140175425099138\n",
      "Amplitude: 3\n"
     ]
    }
   ],
   "source": [
    "import pandas as pd\n",
    "\n",
    "# Criando um DataFrame com as notas dos estudantes\n",
    "notas = {\n",
    "    'Estudantes': ['A', 'B', 'C', 'D', 'E'],\n",
    "    'Notas': [8, 7, 8, 9, 6]\n",
    "}\n",
    "\n",
    "df = pd.DataFrame(notas)\n",
    "\n",
    "# Calculando as medidas estatísticas\n",
    "media = df['Notas'].mean()\n",
    "mediana = df['Notas'].median()\n",
    "moda = df['Notas'].mode()[0]  # Moda: o Pandas retorna uma série, pegamos o primeiro valor\n",
    "variancia = df['Notas'].var() \n",
    "desvio_padrao = df['Notas'].std() \n",
    "amplitude = df['Notas'].max() - df['Notas'].min()\n",
    "\n",
    "# Exibindo os resultados\n",
    "print(f\"Média: {media}\")\n",
    "print(f\"Mediana: {mediana}\")\n",
    "print(f\"Moda: {moda}\")\n",
    "print(f\"Variância: {variancia}\")\n",
    "print(f\"Desvio Padrão: {desvio_padrao}\")\n",
    "print(f\"Amplitude: {amplitude}\")"
   ]
  },
  {
   "cell_type": "markdown",
   "id": "1e33b332-df44-4eb7-8ca9-fd1985c1ac2c",
   "metadata": {},
   "source": [
    "--- "
   ]
  },
  {
   "cell_type": "markdown",
   "id": "e597abb6-2995-4946-a18e-619df4c54215",
   "metadata": {},
   "source": [
    "# Covariância e Correlação"
   ]
  },
  {
   "cell_type": "code",
   "execution_count": 7,
   "id": "43ed0559-d4c8-40da-96a2-26c71192fe29",
   "metadata": {},
   "outputs": [
    {
     "name": "stdout",
     "output_type": "stream",
     "text": [
      "Covariância entre Altura e Peso: 93.75\n",
      "Correlação entre Altura e Peso: 0.9933992677987828\n"
     ]
    }
   ],
   "source": [
    "import pandas as pd\n",
    "\n",
    "# Criando um DataFrame com altura e peso dos estudantes\n",
    "dados = {\n",
    "    'Estudantes': ['1', '2', '3', '4', '5'],\n",
    "    'Altura': [160, 170, 175, 180, 165],  # em cm\n",
    "    'Peso': [50, 65, 70, 80, 55]          # em kg\n",
    "}\n",
    "\n",
    "df = pd.DataFrame(dados)\n",
    "\n",
    "# Calculando a covariância\n",
    "covariancia = df[['Altura', 'Peso']].cov().iloc[0, 1]\n",
    "\n",
    "# Calculando a correlação\n",
    "correlacao = df[['Altura', 'Peso']].corr().iloc[0, 1]\n",
    "\n",
    "# Exibindo os resultados\n",
    "print(f\"Covariância entre Altura e Peso: {covariancia}\")\n",
    "print(f\"Correlação entre Altura e Peso: {correlacao}\")"
   ]
  },
  {
   "cell_type": "code",
   "execution_count": 8,
   "id": "6d87b852-fdaa-4547-b58f-eed5f61453b6",
   "metadata": {},
   "outputs": [
    {
     "data": {
      "text/html": [
       "<div>\n",
       "<style scoped>\n",
       "    .dataframe tbody tr th:only-of-type {\n",
       "        vertical-align: middle;\n",
       "    }\n",
       "\n",
       "    .dataframe tbody tr th {\n",
       "        vertical-align: top;\n",
       "    }\n",
       "\n",
       "    .dataframe thead th {\n",
       "        text-align: right;\n",
       "    }\n",
       "</style>\n",
       "<table border=\"1\" class=\"dataframe\">\n",
       "  <thead>\n",
       "    <tr style=\"text-align: right;\">\n",
       "      <th></th>\n",
       "      <th>Altura</th>\n",
       "      <th>Peso</th>\n",
       "    </tr>\n",
       "  </thead>\n",
       "  <tbody>\n",
       "    <tr>\n",
       "      <th>0</th>\n",
       "      <td>160</td>\n",
       "      <td>50</td>\n",
       "    </tr>\n",
       "    <tr>\n",
       "      <th>1</th>\n",
       "      <td>170</td>\n",
       "      <td>65</td>\n",
       "    </tr>\n",
       "    <tr>\n",
       "      <th>2</th>\n",
       "      <td>175</td>\n",
       "      <td>70</td>\n",
       "    </tr>\n",
       "    <tr>\n",
       "      <th>3</th>\n",
       "      <td>180</td>\n",
       "      <td>80</td>\n",
       "    </tr>\n",
       "    <tr>\n",
       "      <th>4</th>\n",
       "      <td>165</td>\n",
       "      <td>55</td>\n",
       "    </tr>\n",
       "  </tbody>\n",
       "</table>\n",
       "</div>"
      ],
      "text/plain": [
       "   Altura  Peso\n",
       "0     160    50\n",
       "1     170    65\n",
       "2     175    70\n",
       "3     180    80\n",
       "4     165    55"
      ]
     },
     "execution_count": 8,
     "metadata": {},
     "output_type": "execute_result"
    }
   ],
   "source": [
    "df_alturas_pesos = df[['Altura', 'Peso']] # Eis o subdataframe que a gente gera com alturas e pesos\n",
    "df_alturas_pesos"
   ]
  },
  {
   "cell_type": "code",
   "execution_count": 9,
   "id": "d5b292d7-743e-4d32-9ba8-d18fb20042b1",
   "metadata": {},
   "outputs": [
    {
     "data": {
      "text/html": [
       "<div>\n",
       "<style scoped>\n",
       "    .dataframe tbody tr th:only-of-type {\n",
       "        vertical-align: middle;\n",
       "    }\n",
       "\n",
       "    .dataframe tbody tr th {\n",
       "        vertical-align: top;\n",
       "    }\n",
       "\n",
       "    .dataframe thead th {\n",
       "        text-align: right;\n",
       "    }\n",
       "</style>\n",
       "<table border=\"1\" class=\"dataframe\">\n",
       "  <thead>\n",
       "    <tr style=\"text-align: right;\">\n",
       "      <th></th>\n",
       "      <th>Altura</th>\n",
       "      <th>Peso</th>\n",
       "    </tr>\n",
       "  </thead>\n",
       "  <tbody>\n",
       "    <tr>\n",
       "      <th>Altura</th>\n",
       "      <td>62.50</td>\n",
       "      <td>93.75</td>\n",
       "    </tr>\n",
       "    <tr>\n",
       "      <th>Peso</th>\n",
       "      <td>93.75</td>\n",
       "      <td>142.50</td>\n",
       "    </tr>\n",
       "  </tbody>\n",
       "</table>\n",
       "</div>"
      ],
      "text/plain": [
       "        Altura    Peso\n",
       "Altura   62.50   93.75\n",
       "Peso     93.75  142.50"
      ]
     },
     "execution_count": 9,
     "metadata": {},
     "output_type": "execute_result"
    }
   ],
   "source": [
    "df_alturas_pesos.cov() # visualizando a tabela de covariância de altura x peso "
   ]
  },
  {
   "cell_type": "code",
   "execution_count": 10,
   "id": "59432293-a315-4461-9454-846cba4695e5",
   "metadata": {},
   "outputs": [
    {
     "data": {
      "text/html": [
       "<div>\n",
       "<style scoped>\n",
       "    .dataframe tbody tr th:only-of-type {\n",
       "        vertical-align: middle;\n",
       "    }\n",
       "\n",
       "    .dataframe tbody tr th {\n",
       "        vertical-align: top;\n",
       "    }\n",
       "\n",
       "    .dataframe thead th {\n",
       "        text-align: right;\n",
       "    }\n",
       "</style>\n",
       "<table border=\"1\" class=\"dataframe\">\n",
       "  <thead>\n",
       "    <tr style=\"text-align: right;\">\n",
       "      <th></th>\n",
       "      <th>Altura</th>\n",
       "      <th>Peso</th>\n",
       "    </tr>\n",
       "  </thead>\n",
       "  <tbody>\n",
       "    <tr>\n",
       "      <th>Altura</th>\n",
       "      <td>1.000000</td>\n",
       "      <td>0.993399</td>\n",
       "    </tr>\n",
       "    <tr>\n",
       "      <th>Peso</th>\n",
       "      <td>0.993399</td>\n",
       "      <td>1.000000</td>\n",
       "    </tr>\n",
       "  </tbody>\n",
       "</table>\n",
       "</div>"
      ],
      "text/plain": [
       "          Altura      Peso\n",
       "Altura  1.000000  0.993399\n",
       "Peso    0.993399  1.000000"
      ]
     },
     "execution_count": 10,
     "metadata": {},
     "output_type": "execute_result"
    }
   ],
   "source": [
    "df_alturas_pesos.corr() # visualizando a tabela de correlação de altura x peso "
   ]
  },
  {
   "cell_type": "code",
   "execution_count": null,
   "id": "be2c9644-cc89-4d21-8943-73b01fa931eb",
   "metadata": {},
   "outputs": [],
   "source": []
  }
 ],
 "metadata": {
  "kernelspec": {
   "display_name": "Python 3 (ipykernel)",
   "language": "python",
   "name": "python3"
  },
  "language_info": {
   "codemirror_mode": {
    "name": "ipython",
    "version": 3
   },
   "file_extension": ".py",
   "mimetype": "text/x-python",
   "name": "python",
   "nbconvert_exporter": "python",
   "pygments_lexer": "ipython3",
   "version": "3.12.4"
  }
 },
 "nbformat": 4,
 "nbformat_minor": 5
}
