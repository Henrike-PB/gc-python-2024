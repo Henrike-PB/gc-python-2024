{
 "cells": [
  {
   "cell_type": "markdown",
   "id": "d506bcdf-a228-4e8b-bc6b-c77ae5413847",
   "metadata": {},
   "source": [
    "# Exercício 17\n",
    "### Você é um professor que deseja analisar as notas de dois grupos de alunos em um teste de matemática. Carregue o dataset chamado 17_notas_grupos.csv (ver nos recursos da aula no Discord), que contém duas colunas: Grupo_A e Grupo_B, representando as notas dos alunos.\n",
    "### Calcule e compare:"
   ]
  },
  {
   "cell_type": "markdown",
   "id": "5f58f35d-48d9-4b01-b664-096697aba0e2",
   "metadata": {},
   "source": [
    "## 1. a média das notas de ambos os grupos"
   ]
  },
  {
   "cell_type": "code",
   "execution_count": 1,
   "id": "0a4df780-006d-4b70-9e3a-998362a82383",
   "metadata": {},
   "outputs": [
    {
     "data": {
      "text/html": [
       "<div>\n",
       "<style scoped>\n",
       "    .dataframe tbody tr th:only-of-type {\n",
       "        vertical-align: middle;\n",
       "    }\n",
       "\n",
       "    .dataframe tbody tr th {\n",
       "        vertical-align: top;\n",
       "    }\n",
       "\n",
       "    .dataframe thead th {\n",
       "        text-align: right;\n",
       "    }\n",
       "</style>\n",
       "<table border=\"1\" class=\"dataframe\">\n",
       "  <thead>\n",
       "    <tr style=\"text-align: right;\">\n",
       "      <th></th>\n",
       "      <th>Grupo_A</th>\n",
       "      <th>Grupo_B</th>\n",
       "    </tr>\n",
       "  </thead>\n",
       "  <tbody>\n",
       "    <tr>\n",
       "      <th>0</th>\n",
       "      <td>51</td>\n",
       "      <td>23</td>\n",
       "    </tr>\n",
       "    <tr>\n",
       "      <th>1</th>\n",
       "      <td>92</td>\n",
       "      <td>25</td>\n",
       "    </tr>\n",
       "    <tr>\n",
       "      <th>2</th>\n",
       "      <td>14</td>\n",
       "      <td>88</td>\n",
       "    </tr>\n",
       "    <tr>\n",
       "      <th>3</th>\n",
       "      <td>71</td>\n",
       "      <td>59</td>\n",
       "    </tr>\n",
       "    <tr>\n",
       "      <th>4</th>\n",
       "      <td>60</td>\n",
       "      <td>40</td>\n",
       "    </tr>\n",
       "    <tr>\n",
       "      <th>...</th>\n",
       "      <td>...</td>\n",
       "      <td>...</td>\n",
       "    </tr>\n",
       "    <tr>\n",
       "      <th>95</th>\n",
       "      <td>39</td>\n",
       "      <td>0</td>\n",
       "    </tr>\n",
       "    <tr>\n",
       "      <th>96</th>\n",
       "      <td>84</td>\n",
       "      <td>26</td>\n",
       "    </tr>\n",
       "    <tr>\n",
       "      <th>97</th>\n",
       "      <td>79</td>\n",
       "      <td>61</td>\n",
       "    </tr>\n",
       "    <tr>\n",
       "      <th>98</th>\n",
       "      <td>81</td>\n",
       "      <td>76</td>\n",
       "    </tr>\n",
       "    <tr>\n",
       "      <th>99</th>\n",
       "      <td>52</td>\n",
       "      <td>2</td>\n",
       "    </tr>\n",
       "  </tbody>\n",
       "</table>\n",
       "<p>100 rows × 2 columns</p>\n",
       "</div>"
      ],
      "text/plain": [
       "    Grupo_A  Grupo_B\n",
       "0        51       23\n",
       "1        92       25\n",
       "2        14       88\n",
       "3        71       59\n",
       "4        60       40\n",
       "..      ...      ...\n",
       "95       39        0\n",
       "96       84       26\n",
       "97       79       61\n",
       "98       81       76\n",
       "99       52        2\n",
       "\n",
       "[100 rows x 2 columns]"
      ]
     },
     "execution_count": 1,
     "metadata": {},
     "output_type": "execute_result"
    }
   ],
   "source": [
    "import pandas as pd\n",
    "\n",
    "notas_grupos = pd.read_csv('17_notas_grupos.csv')\n",
    "notas_grupos"
   ]
  },
  {
   "cell_type": "code",
   "execution_count": 9,
   "id": "477dca23-b141-4e95-bf35-5ce3800b1f07",
   "metadata": {},
   "outputs": [
    {
     "name": "stdout",
     "output_type": "stream",
     "text": [
      "A media das notas é:\n",
      "Grupo_A    51.31\n",
      "Grupo_B    48.05\n",
      "dtype: float64\n"
     ]
    }
   ],
   "source": [
    "media_notas = notas_grupos[['Grupo_A', 'Grupo_B']].mean()\n",
    "print(f'''A media das notas é:\n",
    "{media_notas}''')"
   ]
  },
  {
   "cell_type": "markdown",
   "id": "9be42648-5463-4c42-8ed3-fb20e8a7a270",
   "metadata": {},
   "source": [
    "## 2. a mediana das notas de ambos os grupos"
   ]
  },
  {
   "cell_type": "code",
   "execution_count": 14,
   "id": "c5e8cc10-675a-4e96-8b60-5862ccd54a3f",
   "metadata": {},
   "outputs": [
    {
     "name": "stdout",
     "output_type": "stream",
     "text": [
      "A media das notas é:\n",
      "Grupo_A    53.5\n",
      "Grupo_B    43.5\n",
      "dtype: float64\n"
     ]
    }
   ],
   "source": [
    "mediana_notas = notas_grupos[['Grupo_A', 'Grupo_B']].median()\n",
    "print(f'''A media das notas é:\n",
    "{mediana_notas}''')"
   ]
  },
  {
   "cell_type": "markdown",
   "id": "4522bcb5-38f7-4b08-82b1-475313366c28",
   "metadata": {},
   "source": [
    "## 3. o desvio padrão das notas de ambos os grupos.."
   ]
  },
  {
   "cell_type": "code",
   "execution_count": 16,
   "id": "683e5b2f-89d2-4500-a253-024240b952e1",
   "metadata": {},
   "outputs": [
    {
     "name": "stdout",
     "output_type": "stream",
     "text": [
      "A media das notas é:\n",
      "Grupo_A    29.704163\n",
      "Grupo_B    30.742783\n",
      "dtype: float64\n"
     ]
    }
   ],
   "source": [
    "desvio_padrao_notas = notas_grupos[['Grupo_A', 'Grupo_B']].std()\n",
    "print(f'''A media das notas é:\n",
    "{desvio_padrao_notas}''')"
   ]
  },
  {
   "cell_type": "code",
   "execution_count": null,
   "id": "3e581d05-f3f9-4063-94e2-ca899895e92b",
   "metadata": {},
   "outputs": [],
   "source": []
  }
 ],
 "metadata": {
  "kernelspec": {
   "display_name": "Python 3 (ipykernel)",
   "language": "python",
   "name": "python3"
  },
  "language_info": {
   "codemirror_mode": {
    "name": "ipython",
    "version": 3
   },
   "file_extension": ".py",
   "mimetype": "text/x-python",
   "name": "python",
   "nbconvert_exporter": "python",
   "pygments_lexer": "ipython3",
   "version": "3.12.4"
  }
 },
 "nbformat": 4,
 "nbformat_minor": 5
}
