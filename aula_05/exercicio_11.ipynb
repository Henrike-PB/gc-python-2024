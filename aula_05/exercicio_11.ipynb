{
 "cells": [
  {
   "cell_type": "markdown",
   "id": "f37c3d98-6896-49bf-a512-eea967d72ed7",
   "metadata": {},
   "source": [
    "# EXERCICIO FEITO COM Rafael Medina E João Vitor Marques\n"
   ]
  },
  {
   "cell_type": "code",
   "execution_count": 2,
   "id": "0cb5b404-80d1-441b-8290-fb23dd7bdacb",
   "metadata": {},
   "outputs": [],
   "source": [
    "import pandas as pd"
   ]
  },
  {
   "cell_type": "code",
   "execution_count": 3,
   "id": "6f9f3b8e-b3f6-49c7-a300-3819e4166972",
   "metadata": {},
   "outputs": [
    {
     "data": {
      "text/html": [
       "<div>\n",
       "<style scoped>\n",
       "    .dataframe tbody tr th:only-of-type {\n",
       "        vertical-align: middle;\n",
       "    }\n",
       "\n",
       "    .dataframe tbody tr th {\n",
       "        vertical-align: top;\n",
       "    }\n",
       "\n",
       "    .dataframe thead th {\n",
       "        text-align: right;\n",
       "    }\n",
       "</style>\n",
       "<table border=\"1\" class=\"dataframe\">\n",
       "  <thead>\n",
       "    <tr style=\"text-align: right;\">\n",
       "      <th></th>\n",
       "      <th>id_musica</th>\n",
       "      <th>nome_musica</th>\n",
       "      <th>artista</th>\n",
       "      <th>genero</th>\n",
       "      <th>duracao</th>\n",
       "    </tr>\n",
       "  </thead>\n",
       "  <tbody>\n",
       "    <tr>\n",
       "      <th>0</th>\n",
       "      <td>1</td>\n",
       "      <td>Sweet Home Alabama</td>\n",
       "      <td>Lynyrd Skynyrd</td>\n",
       "      <td>Southern Rock</td>\n",
       "      <td>4.35</td>\n",
       "    </tr>\n",
       "    <tr>\n",
       "      <th>1</th>\n",
       "      <td>2</td>\n",
       "      <td>Bohemian Rhapsody</td>\n",
       "      <td>Queen</td>\n",
       "      <td>Rock</td>\n",
       "      <td>5.55</td>\n",
       "    </tr>\n",
       "    <tr>\n",
       "      <th>2</th>\n",
       "      <td>3</td>\n",
       "      <td>Hotel California</td>\n",
       "      <td>Eagles</td>\n",
       "      <td>Rock</td>\n",
       "      <td>6.30</td>\n",
       "    </tr>\n",
       "    <tr>\n",
       "      <th>3</th>\n",
       "      <td>4</td>\n",
       "      <td>Hey Jude</td>\n",
       "      <td>The Beatles</td>\n",
       "      <td>Rock</td>\n",
       "      <td>7.11</td>\n",
       "    </tr>\n",
       "    <tr>\n",
       "      <th>4</th>\n",
       "      <td>5</td>\n",
       "      <td>I Will Always Love You</td>\n",
       "      <td>Whitney Houston</td>\n",
       "      <td>Pop/R&amp;B</td>\n",
       "      <td>4.30</td>\n",
       "    </tr>\n",
       "  </tbody>\n",
       "</table>\n",
       "</div>"
      ],
      "text/plain": [
       "   id_musica             nome_musica          artista         genero  duracao\n",
       "0          1      Sweet Home Alabama   Lynyrd Skynyrd  Southern Rock     4.35\n",
       "1          2       Bohemian Rhapsody            Queen           Rock     5.55\n",
       "2          3        Hotel California           Eagles           Rock     6.30\n",
       "3          4                Hey Jude      The Beatles           Rock     7.11\n",
       "4          5  I Will Always Love You  Whitney Houston        Pop/R&B     4.30"
      ]
     },
     "execution_count": 3,
     "metadata": {},
     "output_type": "execute_result"
    }
   ],
   "source": [
    "musicas = {\n",
    "    'id_musica' :[1,2,3,4,5],\n",
    "    'nome_musica' : ['Sweet Home Alabama', 'Bohemian Rhapsody', 'Hotel California', 'Hey Jude', 'I Will Always Love You'],\n",
    "    'artista' : ['Lynyrd Skynyrd', 'Queen', 'Eagles', 'The Beatles', 'Whitney Houston'],\n",
    "    'genero' : [ 'Southern Rock', 'Rock', 'Rock', 'Rock', 'Pop/R&B'],\n",
    "    'duracao' : [4.35, 5.55, 6.30, 7.11, 4.30]\n",
    "            }\n",
    "df_musicas = pd.DataFrame(musicas)\n",
    "df_musicas"
   ]
  },
  {
   "cell_type": "code",
   "execution_count": 4,
   "id": "5cba8aab-dfe4-4de7-97ea-947832cd0730",
   "metadata": {},
   "outputs": [
    {
     "data": {
      "text/html": [
       "<div>\n",
       "<style scoped>\n",
       "    .dataframe tbody tr th:only-of-type {\n",
       "        vertical-align: middle;\n",
       "    }\n",
       "\n",
       "    .dataframe tbody tr th {\n",
       "        vertical-align: top;\n",
       "    }\n",
       "\n",
       "    .dataframe thead th {\n",
       "        text-align: right;\n",
       "    }\n",
       "</style>\n",
       "<table border=\"1\" class=\"dataframe\">\n",
       "  <thead>\n",
       "    <tr style=\"text-align: right;\">\n",
       "      <th></th>\n",
       "      <th>id_reproducao</th>\n",
       "      <th>id_musica</th>\n",
       "      <th>data_reproducao</th>\n",
       "      <th>duracao_reproducao</th>\n",
       "    </tr>\n",
       "  </thead>\n",
       "  <tbody>\n",
       "    <tr>\n",
       "      <th>0</th>\n",
       "      <td>1</td>\n",
       "      <td>1</td>\n",
       "      <td>24-06-1974</td>\n",
       "      <td>3.5</td>\n",
       "    </tr>\n",
       "    <tr>\n",
       "      <th>1</th>\n",
       "      <td>2</td>\n",
       "      <td>2</td>\n",
       "      <td>31-10-1975</td>\n",
       "      <td>5.0</td>\n",
       "    </tr>\n",
       "    <tr>\n",
       "      <th>2</th>\n",
       "      <td>3</td>\n",
       "      <td>3</td>\n",
       "      <td>21-03-1977</td>\n",
       "      <td>6.0</td>\n",
       "    </tr>\n",
       "    <tr>\n",
       "      <th>3</th>\n",
       "      <td>4</td>\n",
       "      <td>4</td>\n",
       "      <td>30-08-1968</td>\n",
       "      <td>2.5</td>\n",
       "    </tr>\n",
       "    <tr>\n",
       "      <th>4</th>\n",
       "      <td>5</td>\n",
       "      <td>5</td>\n",
       "      <td>23-11-1992</td>\n",
       "      <td>4.0</td>\n",
       "    </tr>\n",
       "  </tbody>\n",
       "</table>\n",
       "</div>"
      ],
      "text/plain": [
       "   id_reproducao  id_musica data_reproducao  duracao_reproducao\n",
       "0              1          1      24-06-1974                 3.5\n",
       "1              2          2      31-10-1975                 5.0\n",
       "2              3          3      21-03-1977                 6.0\n",
       "3              4          4      30-08-1968                 2.5\n",
       "4              5          5      23-11-1992                 4.0"
      ]
     },
     "execution_count": 4,
     "metadata": {},
     "output_type": "execute_result"
    }
   ],
   "source": [
    "reproducoes = {\n",
    "    'id_reproducao': [1, 2, 3, 4, 5],\n",
    "    'id_musica': [1, 2, 3, 4, 5],  \n",
    "    'data_reproducao': ['24-06-1974', '31-10-1975', '21-03-1977', '30-08-1968', '23-11-1992'],\n",
    "    'duracao_reproducao': [3.5, 5.0, 6.0, 2.5, 4.0]\n",
    "}\n",
    "df_reproducoes = pd.DataFrame(reproducoes)\n",
    "df_reproducoes"
   ]
  },
  {
   "cell_type": "markdown",
   "id": "fe2582e5-9d0e-4437-8306-8a56bfec213a",
   "metadata": {},
   "source": [
    "# ✦ Simule 5 reproduções de diferentes músicas, associando o id_musica com a data e a duração reproduzida."
   ]
  },
  {
   "cell_type": "code",
   "execution_count": 5,
   "id": "2edaedcc-79cb-4892-b77f-62cbe310bacd",
   "metadata": {},
   "outputs": [],
   "source": [
    "df_completo = pd.merge(df_reproducoes, df_musicas, on ='id_musica')\n"
   ]
  },
  {
   "cell_type": "code",
   "execution_count": 6,
   "id": "387a39e9-5381-44b2-9508-37029df70f5f",
   "metadata": {},
   "outputs": [
    {
     "data": {
      "text/html": [
       "<div>\n",
       "<style scoped>\n",
       "    .dataframe tbody tr th:only-of-type {\n",
       "        vertical-align: middle;\n",
       "    }\n",
       "\n",
       "    .dataframe tbody tr th {\n",
       "        vertical-align: top;\n",
       "    }\n",
       "\n",
       "    .dataframe thead th {\n",
       "        text-align: right;\n",
       "    }\n",
       "</style>\n",
       "<table border=\"1\" class=\"dataframe\">\n",
       "  <thead>\n",
       "    <tr style=\"text-align: right;\">\n",
       "      <th></th>\n",
       "      <th>id_reproducao</th>\n",
       "      <th>id_musica</th>\n",
       "      <th>data_reproducao</th>\n",
       "      <th>duracao_reproducao</th>\n",
       "      <th>nome_musica</th>\n",
       "      <th>artista</th>\n",
       "      <th>genero</th>\n",
       "      <th>duracao</th>\n",
       "    </tr>\n",
       "  </thead>\n",
       "  <tbody>\n",
       "    <tr>\n",
       "      <th>0</th>\n",
       "      <td>1</td>\n",
       "      <td>1</td>\n",
       "      <td>24-06-1974</td>\n",
       "      <td>3.5</td>\n",
       "      <td>Sweet Home Alabama</td>\n",
       "      <td>Lynyrd Skynyrd</td>\n",
       "      <td>Southern Rock</td>\n",
       "      <td>4.35</td>\n",
       "    </tr>\n",
       "    <tr>\n",
       "      <th>1</th>\n",
       "      <td>2</td>\n",
       "      <td>2</td>\n",
       "      <td>31-10-1975</td>\n",
       "      <td>5.0</td>\n",
       "      <td>Bohemian Rhapsody</td>\n",
       "      <td>Queen</td>\n",
       "      <td>Rock</td>\n",
       "      <td>5.55</td>\n",
       "    </tr>\n",
       "    <tr>\n",
       "      <th>2</th>\n",
       "      <td>3</td>\n",
       "      <td>3</td>\n",
       "      <td>21-03-1977</td>\n",
       "      <td>6.0</td>\n",
       "      <td>Hotel California</td>\n",
       "      <td>Eagles</td>\n",
       "      <td>Rock</td>\n",
       "      <td>6.30</td>\n",
       "    </tr>\n",
       "    <tr>\n",
       "      <th>3</th>\n",
       "      <td>4</td>\n",
       "      <td>4</td>\n",
       "      <td>30-08-1968</td>\n",
       "      <td>2.5</td>\n",
       "      <td>Hey Jude</td>\n",
       "      <td>The Beatles</td>\n",
       "      <td>Rock</td>\n",
       "      <td>7.11</td>\n",
       "    </tr>\n",
       "    <tr>\n",
       "      <th>4</th>\n",
       "      <td>5</td>\n",
       "      <td>5</td>\n",
       "      <td>23-11-1992</td>\n",
       "      <td>4.0</td>\n",
       "      <td>I Will Always Love You</td>\n",
       "      <td>Whitney Houston</td>\n",
       "      <td>Pop/R&amp;B</td>\n",
       "      <td>4.30</td>\n",
       "    </tr>\n",
       "  </tbody>\n",
       "</table>\n",
       "</div>"
      ],
      "text/plain": [
       "   id_reproducao  id_musica data_reproducao  duracao_reproducao  \\\n",
       "0              1          1      24-06-1974                 3.5   \n",
       "1              2          2      31-10-1975                 5.0   \n",
       "2              3          3      21-03-1977                 6.0   \n",
       "3              4          4      30-08-1968                 2.5   \n",
       "4              5          5      23-11-1992                 4.0   \n",
       "\n",
       "              nome_musica          artista         genero  duracao  \n",
       "0      Sweet Home Alabama   Lynyrd Skynyrd  Southern Rock     4.35  \n",
       "1       Bohemian Rhapsody            Queen           Rock     5.55  \n",
       "2        Hotel California           Eagles           Rock     6.30  \n",
       "3                Hey Jude      The Beatles           Rock     7.11  \n",
       "4  I Will Always Love You  Whitney Houston        Pop/R&B     4.30  "
      ]
     },
     "execution_count": 6,
     "metadata": {},
     "output_type": "execute_result"
    }
   ],
   "source": [
    "df_completo\n"
   ]
  },
  {
   "cell_type": "markdown",
   "id": "93f1b99f-a9ba-4713-ab2c-651b37117f1a",
   "metadata": {},
   "source": [
    "# ✦ Atualize o dataframe de reproducoes, removendo um registro para simular que nem todas as músicas foram reproduzidas."
   ]
  },
  {
   "cell_type": "code",
   "execution_count": 7,
   "id": "1cec2c41-409c-4424-b3d2-e5dc9d31648c",
   "metadata": {},
   "outputs": [
    {
     "data": {
      "text/html": [
       "<div>\n",
       "<style scoped>\n",
       "    .dataframe tbody tr th:only-of-type {\n",
       "        vertical-align: middle;\n",
       "    }\n",
       "\n",
       "    .dataframe tbody tr th {\n",
       "        vertical-align: top;\n",
       "    }\n",
       "\n",
       "    .dataframe thead th {\n",
       "        text-align: right;\n",
       "    }\n",
       "</style>\n",
       "<table border=\"1\" class=\"dataframe\">\n",
       "  <thead>\n",
       "    <tr style=\"text-align: right;\">\n",
       "      <th></th>\n",
       "      <th>id_reproducao</th>\n",
       "      <th>id_musica</th>\n",
       "      <th>data_reproducao</th>\n",
       "      <th>duracao_reproducao</th>\n",
       "    </tr>\n",
       "  </thead>\n",
       "  <tbody>\n",
       "    <tr>\n",
       "      <th>0</th>\n",
       "      <td>1</td>\n",
       "      <td>1</td>\n",
       "      <td>24-06-1974</td>\n",
       "      <td>3.5</td>\n",
       "    </tr>\n",
       "    <tr>\n",
       "      <th>1</th>\n",
       "      <td>2</td>\n",
       "      <td>2</td>\n",
       "      <td>31-10-1975</td>\n",
       "      <td>5.0</td>\n",
       "    </tr>\n",
       "    <tr>\n",
       "      <th>3</th>\n",
       "      <td>4</td>\n",
       "      <td>4</td>\n",
       "      <td>30-08-1968</td>\n",
       "      <td>2.5</td>\n",
       "    </tr>\n",
       "    <tr>\n",
       "      <th>4</th>\n",
       "      <td>5</td>\n",
       "      <td>5</td>\n",
       "      <td>23-11-1992</td>\n",
       "      <td>4.0</td>\n",
       "    </tr>\n",
       "  </tbody>\n",
       "</table>\n",
       "</div>"
      ],
      "text/plain": [
       "   id_reproducao  id_musica data_reproducao  duracao_reproducao\n",
       "0              1          1      24-06-1974                 3.5\n",
       "1              2          2      31-10-1975                 5.0\n",
       "3              4          4      30-08-1968                 2.5\n",
       "4              5          5      23-11-1992                 4.0"
      ]
     },
     "execution_count": 7,
     "metadata": {},
     "output_type": "execute_result"
    }
   ],
   "source": [
    "df_reproducoes_atualizado = df_reproducoes[df_reproducoes['id_reproducao'] != 3]\n",
    "\n",
    "df_reproducoes_atualizado"
   ]
  },
  {
   "cell_type": "markdown",
   "id": "f7ae60d3-80d4-4a28-ad2c-417646e9dd8e",
   "metadata": {},
   "source": [
    "# ✦ Realize o merge novamente e identifique os valores faltantes."
   ]
  },
  {
   "cell_type": "code",
   "execution_count": 8,
   "id": "3a330279-34b3-4d3c-87d8-56809985ef57",
   "metadata": {},
   "outputs": [
    {
     "data": {
      "text/html": [
       "<div>\n",
       "<style scoped>\n",
       "    .dataframe tbody tr th:only-of-type {\n",
       "        vertical-align: middle;\n",
       "    }\n",
       "\n",
       "    .dataframe tbody tr th {\n",
       "        vertical-align: top;\n",
       "    }\n",
       "\n",
       "    .dataframe thead th {\n",
       "        text-align: right;\n",
       "    }\n",
       "</style>\n",
       "<table border=\"1\" class=\"dataframe\">\n",
       "  <thead>\n",
       "    <tr style=\"text-align: right;\">\n",
       "      <th></th>\n",
       "      <th>id_reproducao</th>\n",
       "      <th>id_musica</th>\n",
       "      <th>data_reproducao</th>\n",
       "      <th>duracao_reproducao</th>\n",
       "      <th>nome_musica</th>\n",
       "      <th>artista</th>\n",
       "      <th>genero</th>\n",
       "      <th>duracao</th>\n",
       "    </tr>\n",
       "  </thead>\n",
       "  <tbody>\n",
       "    <tr>\n",
       "      <th>0</th>\n",
       "      <td>1.0</td>\n",
       "      <td>1</td>\n",
       "      <td>24-06-1974</td>\n",
       "      <td>3.5</td>\n",
       "      <td>Sweet Home Alabama</td>\n",
       "      <td>Lynyrd Skynyrd</td>\n",
       "      <td>Southern Rock</td>\n",
       "      <td>4.35</td>\n",
       "    </tr>\n",
       "    <tr>\n",
       "      <th>1</th>\n",
       "      <td>2.0</td>\n",
       "      <td>2</td>\n",
       "      <td>31-10-1975</td>\n",
       "      <td>5.0</td>\n",
       "      <td>Bohemian Rhapsody</td>\n",
       "      <td>Queen</td>\n",
       "      <td>Rock</td>\n",
       "      <td>5.55</td>\n",
       "    </tr>\n",
       "    <tr>\n",
       "      <th>2</th>\n",
       "      <td>NaN</td>\n",
       "      <td>3</td>\n",
       "      <td>NaN</td>\n",
       "      <td>NaN</td>\n",
       "      <td>Hotel California</td>\n",
       "      <td>Eagles</td>\n",
       "      <td>Rock</td>\n",
       "      <td>6.30</td>\n",
       "    </tr>\n",
       "    <tr>\n",
       "      <th>3</th>\n",
       "      <td>4.0</td>\n",
       "      <td>4</td>\n",
       "      <td>30-08-1968</td>\n",
       "      <td>2.5</td>\n",
       "      <td>Hey Jude</td>\n",
       "      <td>The Beatles</td>\n",
       "      <td>Rock</td>\n",
       "      <td>7.11</td>\n",
       "    </tr>\n",
       "    <tr>\n",
       "      <th>4</th>\n",
       "      <td>5.0</td>\n",
       "      <td>5</td>\n",
       "      <td>23-11-1992</td>\n",
       "      <td>4.0</td>\n",
       "      <td>I Will Always Love You</td>\n",
       "      <td>Whitney Houston</td>\n",
       "      <td>Pop/R&amp;B</td>\n",
       "      <td>4.30</td>\n",
       "    </tr>\n",
       "  </tbody>\n",
       "</table>\n",
       "</div>"
      ],
      "text/plain": [
       "   id_reproducao  id_musica data_reproducao  duracao_reproducao  \\\n",
       "0            1.0          1      24-06-1974                 3.5   \n",
       "1            2.0          2      31-10-1975                 5.0   \n",
       "2            NaN          3             NaN                 NaN   \n",
       "3            4.0          4      30-08-1968                 2.5   \n",
       "4            5.0          5      23-11-1992                 4.0   \n",
       "\n",
       "              nome_musica          artista         genero  duracao  \n",
       "0      Sweet Home Alabama   Lynyrd Skynyrd  Southern Rock     4.35  \n",
       "1       Bohemian Rhapsody            Queen           Rock     5.55  \n",
       "2        Hotel California           Eagles           Rock     6.30  \n",
       "3                Hey Jude      The Beatles           Rock     7.11  \n",
       "4  I Will Always Love You  Whitney Houston        Pop/R&B     4.30  "
      ]
     },
     "execution_count": 8,
     "metadata": {},
     "output_type": "execute_result"
    }
   ],
   "source": [
    "df_completo_atualizado = pd.merge(df_reproducoes_atualizado, df_musicas, on='id_musica', how='outer')\n",
    "\n",
    "df_completo_atualizado"
   ]
  },
  {
   "cell_type": "markdown",
   "id": "a05c9152-8096-449b-887a-5ce369596880",
   "metadata": {},
   "source": [
    "# ✦ Preencha os valores faltantes com \"Não Reproduzida\"..\n"
   ]
  },
  {
   "cell_type": "code",
   "execution_count": 9,
   "id": "0a7e7ec4-93fe-4365-8e00-0fa7f4b61912",
   "metadata": {},
   "outputs": [
    {
     "data": {
      "text/html": [
       "<div>\n",
       "<style scoped>\n",
       "    .dataframe tbody tr th:only-of-type {\n",
       "        vertical-align: middle;\n",
       "    }\n",
       "\n",
       "    .dataframe tbody tr th {\n",
       "        vertical-align: top;\n",
       "    }\n",
       "\n",
       "    .dataframe thead th {\n",
       "        text-align: right;\n",
       "    }\n",
       "</style>\n",
       "<table border=\"1\" class=\"dataframe\">\n",
       "  <thead>\n",
       "    <tr style=\"text-align: right;\">\n",
       "      <th></th>\n",
       "      <th>nome_musica</th>\n",
       "      <th>artista</th>\n",
       "      <th>duracao_reproducao</th>\n",
       "    </tr>\n",
       "  </thead>\n",
       "  <tbody>\n",
       "    <tr>\n",
       "      <th>0</th>\n",
       "      <td>Sweet Home Alabama</td>\n",
       "      <td>Lynyrd Skynyrd</td>\n",
       "      <td>3.5</td>\n",
       "    </tr>\n",
       "    <tr>\n",
       "      <th>1</th>\n",
       "      <td>Bohemian Rhapsody</td>\n",
       "      <td>Queen</td>\n",
       "      <td>5.0</td>\n",
       "    </tr>\n",
       "    <tr>\n",
       "      <th>2</th>\n",
       "      <td>Hotel California</td>\n",
       "      <td>Eagles</td>\n",
       "      <td>Não Reproduzida</td>\n",
       "    </tr>\n",
       "    <tr>\n",
       "      <th>3</th>\n",
       "      <td>Hey Jude</td>\n",
       "      <td>The Beatles</td>\n",
       "      <td>2.5</td>\n",
       "    </tr>\n",
       "    <tr>\n",
       "      <th>4</th>\n",
       "      <td>I Will Always Love You</td>\n",
       "      <td>Whitney Houston</td>\n",
       "      <td>4.0</td>\n",
       "    </tr>\n",
       "  </tbody>\n",
       "</table>\n",
       "</div>"
      ],
      "text/plain": [
       "              nome_musica          artista duracao_reproducao\n",
       "0      Sweet Home Alabama   Lynyrd Skynyrd                3.5\n",
       "1       Bohemian Rhapsody            Queen                5.0\n",
       "2        Hotel California           Eagles    Não Reproduzida\n",
       "3                Hey Jude      The Beatles                2.5\n",
       "4  I Will Always Love You  Whitney Houston                4.0"
      ]
     },
     "execution_count": 9,
     "metadata": {},
     "output_type": "execute_result"
    }
   ],
   "source": [
    "df_completo_atualizado['data_reproducao'] = df_completo_atualizado['data_reproducao'].fillna('Não Reproduzida')\n",
    "df_completo_atualizado['duracao_reproducao'] = df_completo_atualizado['duracao_reproducao'].fillna('Não Reproduzida')\n",
    "\n",
    "\n",
    "resultado_final = df_completo_atualizado[['nome_musica', 'artista', 'duracao_reproducao']]\n",
    "\n",
    "resultado_final"
   ]
  },
  {
   "cell_type": "markdown",
   "id": "813a2ea3-90a8-481f-b013-da4f9a98b84b",
   "metadata": {},
   "source": [
    "# Qual o gênero de música mais reproduzido? Use agrupamento para calcular isso."
   ]
  },
  {
   "cell_type": "code",
   "execution_count": 13,
   "id": "af1fab86-aacd-42b7-8f8d-7ccf9f10830d",
   "metadata": {},
   "outputs": [
    {
     "name": "stdout",
     "output_type": "stream",
     "text": [
      "O gênero de música mais reproduzido é: Rock\n"
     ]
    }
   ],
   "source": [
    "genero_mais_reproduzido = df_completo_atualizado.groupby('genero')['duracao_reproducao'].count().idxmax()\n",
    "print(f\"O gênero de música mais reproduzido é: {genero_mais_reproduzido}\")"
   ]
  },
  {
   "cell_type": "markdown",
   "id": "2dbb42a8-de77-4006-8ceb-bfa023054f41",
   "metadata": {},
   "source": [
    "# Qual o total de minutos de música reproduzidos?"
   ]
  },
  {
   "cell_type": "code",
   "execution_count": 16,
   "id": "966be4fb-c8bb-4354-b7e2-f90b68d86f3c",
   "metadata": {},
   "outputs": [
    {
     "name": "stdout",
     "output_type": "stream",
     "text": [
      "O total de minutos de música reproduzidos é: 15.00 minutos\n"
     ]
    }
   ],
   "source": [
    "\n",
    "df_completo_atualizado['duracao_reproducao'] = pd.to_numeric(df_completo_atualizado['duracao_reproducao'], errors='coerce')\n",
    "\n",
    "total_minutos_reproduzidos = df_completo_atualizado['duracao_reproducao'].sum(skipna=True)\n",
    "\n",
    "print(f\"O total de minutos de música reproduzidos é: {total_minutos_reproduzidos:.2f} minutos\")\n"
   ]
  },
  {
   "cell_type": "code",
   "execution_count": null,
   "id": "8ab501d5-ab4e-4818-83a4-16e57a5e5879",
   "metadata": {},
   "outputs": [],
   "source": []
  }
 ],
 "metadata": {
  "kernelspec": {
   "display_name": "Python 3 (ipykernel)",
   "language": "python",
   "name": "python3"
  },
  "language_info": {
   "codemirror_mode": {
    "name": "ipython",
    "version": 3
   },
   "file_extension": ".py",
   "mimetype": "text/x-python",
   "name": "python",
   "nbconvert_exporter": "python",
   "pygments_lexer": "ipython3",
   "version": "3.12.4"
  }
 },
 "nbformat": 4,
 "nbformat_minor": 5
}
