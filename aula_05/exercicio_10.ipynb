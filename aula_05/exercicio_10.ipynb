{
 "cells": [
  {
   "cell_type": "markdown",
   "id": "b53c63ca-3652-4487-8286-ff8ea1138818",
   "metadata": {},
   "source": [
    "# ✦ O que é uma chave primária em um banco de dados? Por que é importante que cada tabela tenha uma chave primária?\n",
    "\n",
    "A chave primária serve para identificar de forma unica cada registro em uma tabela\n",
    "\n",
    "# ✦ Em um dataframe do Pandas, como você pode identificar uma coluna que atua como uma chave primária?\n",
    "\n",
    "Verificando se os dados nao se repetem ou se nao ha valores nulos, se encaixar nestes parametros, possivelmente devera ser uma chave primaria\n",
    "\n",
    "# ✦ O que são chaves estrangeiras e como elas serelacionam com as chaves primárias?\n",
    "\n",
    "Chaves estrangeiras sao chaves primarias que vem de outra tabela, sendo utilizadas em outras tabelas, reforçando a relaçao entre elas\n",
    "\n",
    "# Qual a diferença entre os métodos .merge() e .join() no Pandas?\n",
    "\n",
    "Ambos são extremamente parecidos, no entanto, o join é mais utilizado em cenários como combinar DataFrames baseado em seus índices e a operação é simples, nesse caso, é mais recomendado o uso do join() pelo seu uso mais conveniente. Agora para o merge é mais focado para maior controle da situação ou se está combinando DataFrames com base em colunas\n",
    "\n",
    "Quando você usaria um inner join ao invés de um left join? Explique com exemplos.\n",
    "\n",
    "O inner join é utilizado quando o intuito é requisitar somente os registros que tem correspondência em ambas tabelas exemplo: existem duas tabelas, uma de clientes e uma de pedidos, um left join mostraria todos os clientes mesmo aqueles que não possuem pedidos, o inner iria mostrar somente aqueles que possuem tanto pedidos quanto os próprios clientes, portanto ele tende a ser mais organizado e útil, dependendo da situação onde é utilizado\n",
    "\n",
    "# Quais são as maneiras de tratar dados faltantes no Pandas? Explique os métodos .dropna() e .fillna().\n",
    "\n",
    "Os métodos \".dropna()\" e \".fillna()\" servem diretamente para lidar com dados ausentes ou faltantes. Eles funcionam da seguinte maneira:\n",
    "\n",
    ".dropna() : Usado para remover linhas ou colunas que contêm dados faltantes. Ele tende a ser mais utilizado quando os dados não são relevantes para a análise ou quando a quantidade é pequena.\n",
    "\n",
    ".fillna() : Usado para preencher valores faltantes com um valor específico. Geralmente é utilizado quando é necessário manter as linhas/colunas, mas substituir os valores faltantes.\n",
    "\n",
    "Portanto, os dois conseguem agir no mesmo princípio, no entanto, com funcionalidades diferentes, o \".dropna()\" é ideal quando a perda de linhas/colunas não compromete a análise. Já o \"fillna()\" é utilizado quando os valores faltantes precisam ser substituídos por um valor específico ou calculado."
   ]
  },
  {
   "cell_type": "code",
   "execution_count": null,
   "id": "539b71e5-59e0-4921-806a-84e4d9bf14bd",
   "metadata": {},
   "outputs": [],
   "source": []
  }
 ],
 "metadata": {
  "kernelspec": {
   "display_name": "Python 3 (ipykernel)",
   "language": "python",
   "name": "python3"
  },
  "language_info": {
   "codemirror_mode": {
    "name": "ipython",
    "version": 3
   },
   "file_extension": ".py",
   "mimetype": "text/x-python",
   "name": "python",
   "nbconvert_exporter": "python",
   "pygments_lexer": "ipython3",
   "version": "3.12.4"
  }
 },
 "nbformat": 4,
 "nbformat_minor": 5
}
