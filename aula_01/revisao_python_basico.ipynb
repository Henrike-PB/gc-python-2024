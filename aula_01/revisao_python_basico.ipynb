{
 "cells": [
  {
   "cell_type": "code",
   "execution_count": 3,
   "id": "2895b45a-6aec-4eec-b063-17c656319774",
   "metadata": {},
   "outputs": [
    {
     "name": "stdout",
     "output_type": "stream",
     "text": [
      "15\n"
     ]
    }
   ],
   "source": [
    "nome = 'Henrike'\n",
    "idade = 23\n",
    "valor_em_carteira = 750\n",
    "vip = True #False\n",
    "\n",
    "nome = 10 + 5\n",
    "print(nome)"
   ]
  },
  {
   "cell_type": "code",
   "execution_count": 6,
   "id": "f1634b7e-c649-4c45-972b-ec71bf550031",
   "metadata": {},
   "outputs": [
    {
     "name": "stdout",
     "output_type": "stream",
     "text": [
      "Henrike Pajares Braga\n"
     ]
    }
   ],
   "source": [
    "# Função com parâmetro\n",
    "def soma_dois_valores(primeiro, segundo):\n",
    "    resultado = primeiro + segundo\n",
    "    return resultado\n",
    "\n",
    "\n",
    "valor_1 = 'Henrike Pajares '\n",
    "valor_2 = 'Braga'\n",
    "\n",
    "soma = soma_dois_valores(valor_1, valor_2)\n",
    "print(soma)"
   ]
  },
  {
   "cell_type": "code",
   "execution_count": 10,
   "id": "14f7211c-f76c-44ab-9e97-f4aa8a973238",
   "metadata": {},
   "outputs": [
    {
     "name": "stdout",
     "output_type": "stream",
     "text": [
      "Miguel\n"
     ]
    }
   ],
   "source": [
    "# Listas\n",
    "lista_clientes = ['Joaquim', 'Teobaldo', 'Rodolfo', 'Dunga']\n",
    "lista_produtos = ['Maçã', 'Banana', 'Chocolate', 'Uva']\n",
    "\n",
    "lista_clientes.append('Miguel')\n",
    "\n",
    "print(lista_clientes[4])"
   ]
  },
  {
   "cell_type": "code",
   "execution_count": 13,
   "id": "cd39ddce-d86d-469e-bfc6-79511eb695db",
   "metadata": {},
   "outputs": [
    {
     "name": "stdout",
     "output_type": "stream",
     "text": [
      "[('Banana', 4, 8.0)]\n"
     ]
    }
   ],
   "source": [
    "lista_vendas = []\n",
    "\n",
    "# Tupula\n",
    "venda = ('Banana', 4, 8.0)\n",
    "\n",
    "lista_vendas.append(venda)\n",
    "\n",
    "print(lista_vendas)"
   ]
  },
  {
   "cell_type": "code",
   "execution_count": 20,
   "id": "793129f6-c919-4b95-9af9-034160bcbfbc",
   "metadata": {},
   "outputs": [
    {
     "name": "stdout",
     "output_type": "stream",
     "text": [
      "[{'nome': 'Henrike', 'idade': 23, 'vip': True, 'carteira': 750}, {'nome': 'Dunga', 'idade': 25, 'vip': True, 'carteira': 7.5}]\n"
     ]
    }
   ],
   "source": [
    "# Dicionário\n",
    "cliente_1 = {\n",
    "    'nome' : 'Henrike',\n",
    "    'idade' : 23,\n",
    "    'vip' : True,\n",
    "    'carteira' : 750\n",
    "}\n",
    "\n",
    "cliente_2 = {\n",
    "    'nome' : 'Dunga',\n",
    "    'idade' : 17,\n",
    "    'vip' : True,\n",
    "    'carteira' : 7.500\n",
    "}\n",
    "\n",
    "cliente_2['idade'] = 25\n",
    "\n",
    "lista_clientes = [cliente_1, cliente_2]\n",
    "\n",
    "print(lista_clientes)"
   ]
  },
  {
   "cell_type": "code",
   "execution_count": 25,
   "id": "9a64888a-5561-49e2-9248-dafcee023318",
   "metadata": {},
   "outputs": [
    {
     "name": "stdout",
     "output_type": "stream",
     "text": [
      "81.0\n",
      "4.0\n"
     ]
    }
   ],
   "source": [
    "import math\n",
    "\n",
    "# Potência Três elevado ao Quatro\n",
    "print(math.pow(3, 4))\n",
    "\n",
    "# Square Root = Raiz quadrada = sqrt\n",
    "print(math.sqrt(16))"
   ]
  },
  {
   "cell_type": "code",
   "execution_count": null,
   "id": "d0f5d806-21d7-4e1d-b1b2-d094544dbbaa",
   "metadata": {},
   "outputs": [],
   "source": []
  }
 ],
 "metadata": {
  "kernelspec": {
   "display_name": "Python 3 (ipykernel)",
   "language": "python",
   "name": "python3"
  },
  "language_info": {
   "codemirror_mode": {
    "name": "ipython",
    "version": 3
   },
   "file_extension": ".py",
   "mimetype": "text/x-python",
   "name": "python",
   "nbconvert_exporter": "python",
   "pygments_lexer": "ipython3",
   "version": "3.12.4"
  }
 },
 "nbformat": 4,
 "nbformat_minor": 5
}
