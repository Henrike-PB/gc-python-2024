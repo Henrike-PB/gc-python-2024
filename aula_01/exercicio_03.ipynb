{
 "cells": [
  {
   "cell_type": "markdown",
   "id": "582b47df-dd54-4a63-a402-a504cb8932d5",
   "metadata": {},
   "source": [
    "# 3️⃣ Crie um programa que leia 3 números, imprima o maior, o menor e a média aritmética"
   ]
  },
  {
   "cell_type": "code",
   "execution_count": 1,
   "id": "22e7b7a4-f2f3-495f-b594-67b1143f6023",
   "metadata": {},
   "outputs": [
    {
     "name": "stdin",
     "output_type": "stream",
     "text": [
      "digite o primeiro valor 20\n",
      "digite o segundo valor 30\n",
      "digite o terceiro valor 40\n"
     ]
    },
    {
     "name": "stdout",
     "output_type": "stream",
     "text": [
      "o maior valor é 40\n",
      "o menor valor é 20\n",
      "a média aritmética de 20, 30 e 40 é 63.333333333333336.\n"
     ]
    }
   ],
   "source": [
    "list = []\n",
    "\n",
    "a = int(input(\"digite o primeiro valor\"))\n",
    "b = int(input(\"digite o segundo valor\"))\n",
    "c = int(input(\"digite o terceiro valor\"))\n",
    "\n",
    "list.append(a)\n",
    "list.append(b)\n",
    "list.append(c)\n",
    "\n",
    "num_maior = max(list)\n",
    "num_menor = min(list)\n",
    "media_aritmetica = a + b + c / len(list) \n",
    "\n",
    "print(f\"o maior valor é {num_maior}\")\n",
    "print(f\"o menor valor é {num_menor}\")\n",
    "print(f\"a média aritmética de {a}, {b} e {c} é {media_aritmetica}.\")"
   ]
  }
 ],
 "metadata": {
  "kernelspec": {
   "display_name": "Python 3 (ipykernel)",
   "language": "python",
   "name": "python3"
  },
  "language_info": {
   "codemirror_mode": {
    "name": "ipython",
    "version": 3
   },
   "file_extension": ".py",
   "mimetype": "text/x-python",
   "name": "python",
   "nbconvert_exporter": "python",
   "pygments_lexer": "ipython3",
   "version": "3.12.4"
  }
 },
 "nbformat": 4,
 "nbformat_minor": 5
}
