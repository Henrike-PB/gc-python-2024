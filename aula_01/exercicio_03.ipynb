{
 "cells": [
  {
   "cell_type": "markdown",
   "id": "582b47df-dd54-4a63-a402-a504cb8932d5",
   "metadata": {},
   "source": [
    "# 3️⃣ Crie um programa que leia 3 números, imprima o maior, o menor e a média aritmética"
   ]
  },
  {
   "cell_type": "markdown",
   "id": "a9166248-da3d-450e-92f8-e82d97b6a569",
   "metadata": {},
   "source": [
    "### Resposta anterior incorreta:"
   ]
  },
  {
   "cell_type": "code",
   "execution_count": 1,
   "id": "22e7b7a4-f2f3-495f-b594-67b1143f6023",
   "metadata": {},
   "outputs": [],
   "source": [
    "\n",
    "# list = []\n",
    "\n",
    "# a = int(input(\"digite o primeiro valor\"))\n",
    "# b = int(input(\"digite o segundo valor\"))\n",
    "# c = int(input(\"digite o terceiro valor\"))\n",
    "\n",
    "# list.append(a)\n",
    "# list.append(b)\n",
    "# list.append(c)\n",
    "\n",
    "# num_maior = max(list)\n",
    "# num_menor = min(list)\n",
    "# media_aritmetica = (a + b + c) / len(list) \n",
    "\n",
    "# print(f\"o maior valor é {num_maior}\")\n",
    "# print(f\"o menor valor é {num_menor}\")\n",
    "# print(f\"a média aritmética de {a}, {b} e {c} é {media_aritmetica}.\")"
   ]
  },
  {
   "cell_type": "markdown",
   "id": "fda2aa67-d8f8-4caa-b5a2-292a65f04994",
   "metadata": {},
   "source": [
    "### Nova tentativa de resposta, com outra abordagem:"
   ]
  },
  {
   "cell_type": "code",
   "execution_count": 2,
   "id": "d8d2dc28-a53e-4432-8257-04fb274732ce",
   "metadata": {},
   "outputs": [
    {
     "name": "stdin",
     "output_type": "stream",
     "text": [
      "Digite o primeiro valor:  20\n",
      "Digite o segundo valor:  30\n",
      "Digite o terceiro valor:  40\n"
     ]
    },
    {
     "name": "stdout",
     "output_type": "stream",
     "text": [
      "O maior valor é 40\n",
      "O menor valor é 20\n",
      "A média aritmética de 20, 30 e 40 é 30.0.\n"
     ]
    }
   ],
   "source": [
    "valores = []  # anteriormente foi utilizado \"list\", utilizar isto como nome de lista pode levar a erros inesperado por conta de \"list\" ja ser reverado para uma função especifica em python\n",
    "\n",
    "a = int(input(\"Digite o primeiro valor: \"))\n",
    "b = int(input(\"Digite o segundo valor: \"))\n",
    "c = int(input(\"Digite o terceiro valor: \"))\n",
    "\n",
    "valores.append(a)\n",
    "valores.append(b)\n",
    "valores.append(c)\n",
    "\n",
    "num_maior = max(valores)\n",
    "num_menor = min(valores)\n",
    "media_aritmetica = sum(valores) / len(valores)  #  utilizandi sum() para simplificar o código\n",
    "\n",
    "print(f\"O maior valor é {num_maior}\")\n",
    "print(f\"O menor valor é {num_menor}\")\n",
    "print(f\"A média aritmética de {a}, {b} e {c} é {media_aritmetica}.\")\n"
   ]
  },
  {
   "cell_type": "code",
   "execution_count": null,
   "id": "dae2ba15-c259-44b1-8799-665f030af4bc",
   "metadata": {},
   "outputs": [],
   "source": []
  }
 ],
 "metadata": {
  "kernelspec": {
   "display_name": "Python 3 (ipykernel)",
   "language": "python",
   "name": "python3"
  },
  "language_info": {
   "codemirror_mode": {
    "name": "ipython",
    "version": 3
   },
   "file_extension": ".py",
   "mimetype": "text/x-python",
   "name": "python",
   "nbconvert_exporter": "python",
   "pygments_lexer": "ipython3",
   "version": "3.12.4"
  }
 },
 "nbformat": 4,
 "nbformat_minor": 5
}
