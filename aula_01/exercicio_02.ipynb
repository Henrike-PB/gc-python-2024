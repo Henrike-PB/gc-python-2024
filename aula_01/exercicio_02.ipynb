{
 "cells": [
  {
   "cell_type": "markdown",
   "id": "437df33c-0ab3-4a1b-84f8-8d82cd496de4",
   "metadata": {},
   "source": [
    "# 2️⃣ Crie um programa que receba 2 números e imprima a soma deles na tela."
   ]
  },
  {
   "cell_type": "code",
   "execution_count": 1,
   "id": "7ed0ea57-b0e6-4678-a187-a641be4e7fcb",
   "metadata": {},
   "outputs": [
    {
     "name": "stdin",
     "output_type": "stream",
     "text": [
      "digite o primeiro valor 10\n",
      "digite o segundo valor 20\n"
     ]
    },
    {
     "name": "stdout",
     "output_type": "stream",
     "text": [
      "a soma de 10 + 20 é igual á 30\n"
     ]
    }
   ],
   "source": [
    "a = int(input(\"digite o primeiro valor\"))\n",
    "b = int(input(\"digite o segundo valor\"))\n",
    "\n",
    "soma = a + b\n",
    "\n",
    "print(f\"a soma de {a} + {b} é igual á {soma}\")"
   ]
  }
 ],
 "metadata": {
  "kernelspec": {
   "display_name": "Python 3 (ipykernel)",
   "language": "python",
   "name": "python3"
  },
  "language_info": {
   "codemirror_mode": {
    "name": "ipython",
    "version": 3
   },
   "file_extension": ".py",
   "mimetype": "text/x-python",
   "name": "python",
   "nbconvert_exporter": "python",
   "pygments_lexer": "ipython3",
   "version": "3.12.4"
  }
 },
 "nbformat": 4,
 "nbformat_minor": 5
}
