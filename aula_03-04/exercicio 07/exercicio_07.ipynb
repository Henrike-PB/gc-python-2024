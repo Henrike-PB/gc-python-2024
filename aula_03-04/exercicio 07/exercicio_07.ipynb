{
 "cells": [
  {
   "cell_type": "code",
   "execution_count": 9,
   "id": "69f7c1ab-7b08-4ab7-af9b-e2c881783dfe",
   "metadata": {},
   "outputs": [
    {
     "name": "stdout",
     "output_type": "stream",
     "text": [
      "Requirement already satisfied: pandas in c:\\users\\henri\\appdata\\local\\programs\\python\\python312\\lib\\site-packages (2.2.3)\n",
      "Requirement already satisfied: numpy>=1.26.0 in c:\\users\\henri\\appdata\\local\\programs\\python\\python312\\lib\\site-packages (from pandas) (2.1.1)\n",
      "Requirement already satisfied: python-dateutil>=2.8.2 in c:\\users\\henri\\appdata\\local\\programs\\python\\python312\\lib\\site-packages (from pandas) (2.9.0.post0)\n",
      "Requirement already satisfied: pytz>=2020.1 in c:\\users\\henri\\appdata\\local\\programs\\python\\python312\\lib\\site-packages (from pandas) (2024.2)\n",
      "Requirement already satisfied: tzdata>=2022.7 in c:\\users\\henri\\appdata\\local\\programs\\python\\python312\\lib\\site-packages (from pandas) (2024.2)\n",
      "Requirement already satisfied: six>=1.5 in c:\\users\\henri\\appdata\\local\\programs\\python\\python312\\lib\\site-packages (from python-dateutil>=2.8.2->pandas) (1.16.0)\n"
     ]
    },
    {
     "name": "stderr",
     "output_type": "stream",
     "text": [
      "\n",
      "[notice] A new release of pip is available: 24.0 -> 24.2\n",
      "[notice] To update, run: python.exe -m pip install --upgrade pip\n"
     ]
    }
   ],
   "source": [
    "!pip install pandas"
   ]
  },
  {
   "cell_type": "markdown",
   "id": "635ef7e1-0667-4b15-ad59-a4a4da2ebdf0",
   "metadata": {},
   "source": [
    "### ✦ Crie uma lista com 5 nomes de filmes que você goste. "
   ]
  },
  {
   "cell_type": "code",
   "execution_count": 5,
   "id": "81d25966-62e4-4b2e-b12e-6b1327fca519",
   "metadata": {},
   "outputs": [],
   "source": [
    "import pandas as pd\n",
    "\n",
    "filmes = ['O Senhor dos Anéis: A Sociedade do Anel', 'Matrix', 'Inception', 'Interstellar', 'Parasita']\n"
   ]
  },
  {
   "cell_type": "markdown",
   "id": "18361826-2d66-462d-8804-aa394d8bead3",
   "metadata": {},
   "source": [
    "### ✦ Crie uma 2ª lista com o ano de lançamento desses 5 filmes (pode pesquisar, eu deixo). Tranforme isso em um dataframe; "
   ]
  },
  {
   "cell_type": "code",
   "execution_count": 12,
   "id": "0bdb3e8a-906e-4cf6-aefe-d5abe03c78b3",
   "metadata": {},
   "outputs": [
    {
     "data": {
      "text/html": [
       "<div>\n",
       "<style scoped>\n",
       "    .dataframe tbody tr th:only-of-type {\n",
       "        vertical-align: middle;\n",
       "    }\n",
       "\n",
       "    .dataframe tbody tr th {\n",
       "        vertical-align: top;\n",
       "    }\n",
       "\n",
       "    .dataframe thead th {\n",
       "        text-align: right;\n",
       "    }\n",
       "</style>\n",
       "<table border=\"1\" class=\"dataframe\">\n",
       "  <thead>\n",
       "    <tr style=\"text-align: right;\">\n",
       "      <th></th>\n",
       "      <th>Filme</th>\n",
       "      <th>Ano</th>\n",
       "    </tr>\n",
       "  </thead>\n",
       "  <tbody>\n",
       "    <tr>\n",
       "      <th>0</th>\n",
       "      <td>O Senhor dos Anéis: A Sociedade do Anel</td>\n",
       "      <td>2001</td>\n",
       "    </tr>\n",
       "    <tr>\n",
       "      <th>1</th>\n",
       "      <td>Matrix</td>\n",
       "      <td>1999</td>\n",
       "    </tr>\n",
       "    <tr>\n",
       "      <th>2</th>\n",
       "      <td>Inception</td>\n",
       "      <td>2010</td>\n",
       "    </tr>\n",
       "    <tr>\n",
       "      <th>3</th>\n",
       "      <td>Interstellar</td>\n",
       "      <td>2014</td>\n",
       "    </tr>\n",
       "    <tr>\n",
       "      <th>4</th>\n",
       "      <td>Parasita</td>\n",
       "      <td>2019</td>\n",
       "    </tr>\n",
       "  </tbody>\n",
       "</table>\n",
       "</div>"
      ],
      "text/plain": [
       "                                     Filme   Ano\n",
       "0  O Senhor dos Anéis: A Sociedade do Anel  2001\n",
       "1                                   Matrix  1999\n",
       "2                                Inception  2010\n",
       "3                             Interstellar  2014\n",
       "4                                 Parasita  2019"
      ]
     },
     "execution_count": 12,
     "metadata": {},
     "output_type": "execute_result"
    }
   ],
   "source": [
    "anos = [2001, 1999, 2010, 2014, 2019]\n",
    "\n",
    "meus_filmes = pd.DataFrame({\n",
    "    'Filme': filmes,\n",
    "    'Ano': anos\n",
    "})\n",
    "\n",
    "meus_filmes"
   ]
  },
  {
   "cell_type": "markdown",
   "id": "efff70e4-0a45-4fcb-9a5d-d0a877cd10eb",
   "metadata": {},
   "source": [
    "### ✦ Adicione uma nova coluna com a nota, de 1 a 10, de quanto você gosta deles"
   ]
  },
  {
   "cell_type": "code",
   "execution_count": 13,
   "id": "8bfb6d40-8ac3-4c68-95f0-9e52322c7d25",
   "metadata": {},
   "outputs": [
    {
     "data": {
      "text/html": [
       "<div>\n",
       "<style scoped>\n",
       "    .dataframe tbody tr th:only-of-type {\n",
       "        vertical-align: middle;\n",
       "    }\n",
       "\n",
       "    .dataframe tbody tr th {\n",
       "        vertical-align: top;\n",
       "    }\n",
       "\n",
       "    .dataframe thead th {\n",
       "        text-align: right;\n",
       "    }\n",
       "</style>\n",
       "<table border=\"1\" class=\"dataframe\">\n",
       "  <thead>\n",
       "    <tr style=\"text-align: right;\">\n",
       "      <th></th>\n",
       "      <th>Filme</th>\n",
       "      <th>Ano</th>\n",
       "      <th>Nota</th>\n",
       "    </tr>\n",
       "  </thead>\n",
       "  <tbody>\n",
       "    <tr>\n",
       "      <th>0</th>\n",
       "      <td>O Senhor dos Anéis: A Sociedade do Anel</td>\n",
       "      <td>2001</td>\n",
       "      <td>10.0</td>\n",
       "    </tr>\n",
       "    <tr>\n",
       "      <th>1</th>\n",
       "      <td>Matrix</td>\n",
       "      <td>1999</td>\n",
       "      <td>9.0</td>\n",
       "    </tr>\n",
       "    <tr>\n",
       "      <th>2</th>\n",
       "      <td>Inception</td>\n",
       "      <td>2010</td>\n",
       "      <td>9.5</td>\n",
       "    </tr>\n",
       "    <tr>\n",
       "      <th>3</th>\n",
       "      <td>Interstellar</td>\n",
       "      <td>2014</td>\n",
       "      <td>9.0</td>\n",
       "    </tr>\n",
       "    <tr>\n",
       "      <th>4</th>\n",
       "      <td>Parasita</td>\n",
       "      <td>2019</td>\n",
       "      <td>8.5</td>\n",
       "    </tr>\n",
       "  </tbody>\n",
       "</table>\n",
       "</div>"
      ],
      "text/plain": [
       "                                     Filme   Ano  Nota\n",
       "0  O Senhor dos Anéis: A Sociedade do Anel  2001  10.0\n",
       "1                                   Matrix  1999   9.0\n",
       "2                                Inception  2010   9.5\n",
       "3                             Interstellar  2014   9.0\n",
       "4                                 Parasita  2019   8.5"
      ]
     },
     "execution_count": 13,
     "metadata": {},
     "output_type": "execute_result"
    }
   ],
   "source": [
    "meus_filmes['Nota'] = [10, 9, 9.5, 9, 8.5]\n",
    "meus_filmes"
   ]
  },
  {
   "cell_type": "markdown",
   "id": "ae403c1b-6d63-4af5-bf50-205f5e969faf",
   "metadata": {},
   "source": [
    "### ✦ Crie mais 2 dataframes, de séries e anime/desenhos que você gosta, com as mesmas colunas acima."
   ]
  },
  {
   "cell_type": "code",
   "execution_count": 15,
   "id": "123851ac-6019-4065-9425-2d79e814be24",
   "metadata": {},
   "outputs": [
    {
     "data": {
      "text/html": [
       "<div>\n",
       "<style scoped>\n",
       "    .dataframe tbody tr th:only-of-type {\n",
       "        vertical-align: middle;\n",
       "    }\n",
       "\n",
       "    .dataframe tbody tr th {\n",
       "        vertical-align: top;\n",
       "    }\n",
       "\n",
       "    .dataframe thead th {\n",
       "        text-align: right;\n",
       "    }\n",
       "</style>\n",
       "<table border=\"1\" class=\"dataframe\">\n",
       "  <thead>\n",
       "    <tr style=\"text-align: right;\">\n",
       "      <th></th>\n",
       "      <th>Anime/Desenho</th>\n",
       "      <th>Ano</th>\n",
       "      <th>Nota</th>\n",
       "    </tr>\n",
       "  </thead>\n",
       "  <tbody>\n",
       "    <tr>\n",
       "      <th>0</th>\n",
       "      <td>Naruto</td>\n",
       "      <td>2002</td>\n",
       "      <td>9.0</td>\n",
       "    </tr>\n",
       "    <tr>\n",
       "      <th>1</th>\n",
       "      <td>Attack on Titan</td>\n",
       "      <td>2013</td>\n",
       "      <td>9.5</td>\n",
       "    </tr>\n",
       "    <tr>\n",
       "      <th>2</th>\n",
       "      <td>Dragon Ball Z</td>\n",
       "      <td>1989</td>\n",
       "      <td>8.5</td>\n",
       "    </tr>\n",
       "    <tr>\n",
       "      <th>3</th>\n",
       "      <td>One Piece</td>\n",
       "      <td>1999</td>\n",
       "      <td>9.0</td>\n",
       "    </tr>\n",
       "    <tr>\n",
       "      <th>4</th>\n",
       "      <td>Avatar: The Last Airbender</td>\n",
       "      <td>2005</td>\n",
       "      <td>10.0</td>\n",
       "    </tr>\n",
       "  </tbody>\n",
       "</table>\n",
       "</div>"
      ],
      "text/plain": [
       "                Anime/Desenho   Ano  Nota\n",
       "0                      Naruto  2002   9.0\n",
       "1             Attack on Titan  2013   9.5\n",
       "2               Dragon Ball Z  1989   8.5\n",
       "3                   One Piece  1999   9.0\n",
       "4  Avatar: The Last Airbender  2005  10.0"
      ]
     },
     "execution_count": 15,
     "metadata": {},
     "output_type": "execute_result"
    }
   ],
   "source": [
    "series = ['Breaking Bad', 'Stranger Things', 'Game of Thrones', 'The Office', 'Friends']\n",
    "anos_series = [2008, 2016, 2011, 2005, 1994]\n",
    "notas_series = [10, 9, 8.5, 9, 8]\n",
    "\n",
    "minhas_series = pd.DataFrame({\n",
    "    'Série': series,\n",
    "    'Ano': anos_series,\n",
    "    'Nota': notas_series\n",
    "})\n",
    "\n",
    "minhas_series\n",
    "\n",
    "animes = ['Naruto', 'Attack on Titan', 'Dragon Ball Z', 'One Piece', 'Avatar: The Last Airbender']\n",
    "anos_animes = [2002, 2013, 1989, 1999, 2005]\n",
    "notas_animes = [9, 9.5, 8.5, 9, 10]\n",
    "\n",
    "meus_animes = pd.DataFrame({\n",
    "    'Anime/Desenho': animes,\n",
    "    'Ano': anos_animes,\n",
    "    'Nota': notas_animes\n",
    "})\n",
    "\n",
    "meus_animes"
   ]
  },
  {
   "cell_type": "markdown",
   "id": "1867a550-c2c0-43d7-b3b9-05736fbb5964",
   "metadata": {},
   "source": [
    "### ✦ Salve os 3 dataframes em 'csv', 'json' e 'html' e nos envie os arquivos."
   ]
  },
  {
   "cell_type": "code",
   "execution_count": 16,
   "id": "102c4054-e431-4bdb-ba80-c2c7a1597d13",
   "metadata": {},
   "outputs": [],
   "source": [
    "meus_filmes.to_csv('filmes.csv')\n",
    "meus_filmes.to_json('filmes.json')\n",
    "meus_filmes.to_html('filmes.html')\n",
    "\n",
    "minhas_series.to_csv('series.csv')\n",
    "minhas_series.to_json('series.json')\n",
    "minhas_series.to_html('series.html')\n",
    "\n",
    "meus_animes.to_csv('animes.csv')\n",
    "meus_animes.to_json('animes.json')\n",
    "meus_animes.to_html('animes.html')"
   ]
  },
  {
   "cell_type": "markdown",
   "id": "b3b1442e-77fe-4db1-9d01-599cc81db496",
   "metadata": {},
   "source": [
    "### ✦ Concatene horizontalmente os 3 dataframes, ficando 9 colunas no final."
   ]
  },
  {
   "cell_type": "code",
   "execution_count": 17,
   "id": "e1c29c76-4b2e-4b7a-9787-d058549a83b0",
   "metadata": {},
   "outputs": [
    {
     "data": {
      "text/html": [
       "<div>\n",
       "<style scoped>\n",
       "    .dataframe tbody tr th:only-of-type {\n",
       "        vertical-align: middle;\n",
       "    }\n",
       "\n",
       "    .dataframe tbody tr th {\n",
       "        vertical-align: top;\n",
       "    }\n",
       "\n",
       "    .dataframe thead th {\n",
       "        text-align: right;\n",
       "    }\n",
       "</style>\n",
       "<table border=\"1\" class=\"dataframe\">\n",
       "  <thead>\n",
       "    <tr style=\"text-align: right;\">\n",
       "      <th></th>\n",
       "      <th>Filme</th>\n",
       "      <th>Ano</th>\n",
       "      <th>Nota</th>\n",
       "      <th>Série</th>\n",
       "      <th>Ano</th>\n",
       "      <th>Nota</th>\n",
       "      <th>Anime/Desenho</th>\n",
       "      <th>Ano</th>\n",
       "      <th>Nota</th>\n",
       "    </tr>\n",
       "  </thead>\n",
       "  <tbody>\n",
       "    <tr>\n",
       "      <th>0</th>\n",
       "      <td>O Senhor dos Anéis: A Sociedade do Anel</td>\n",
       "      <td>2001</td>\n",
       "      <td>10.0</td>\n",
       "      <td>Breaking Bad</td>\n",
       "      <td>2008</td>\n",
       "      <td>10.0</td>\n",
       "      <td>Naruto</td>\n",
       "      <td>2002</td>\n",
       "      <td>9.0</td>\n",
       "    </tr>\n",
       "    <tr>\n",
       "      <th>1</th>\n",
       "      <td>Matrix</td>\n",
       "      <td>1999</td>\n",
       "      <td>9.0</td>\n",
       "      <td>Stranger Things</td>\n",
       "      <td>2016</td>\n",
       "      <td>9.0</td>\n",
       "      <td>Attack on Titan</td>\n",
       "      <td>2013</td>\n",
       "      <td>9.5</td>\n",
       "    </tr>\n",
       "    <tr>\n",
       "      <th>2</th>\n",
       "      <td>Inception</td>\n",
       "      <td>2010</td>\n",
       "      <td>9.5</td>\n",
       "      <td>Game of Thrones</td>\n",
       "      <td>2011</td>\n",
       "      <td>8.5</td>\n",
       "      <td>Dragon Ball Z</td>\n",
       "      <td>1989</td>\n",
       "      <td>8.5</td>\n",
       "    </tr>\n",
       "    <tr>\n",
       "      <th>3</th>\n",
       "      <td>Interstellar</td>\n",
       "      <td>2014</td>\n",
       "      <td>9.0</td>\n",
       "      <td>The Office</td>\n",
       "      <td>2005</td>\n",
       "      <td>9.0</td>\n",
       "      <td>One Piece</td>\n",
       "      <td>1999</td>\n",
       "      <td>9.0</td>\n",
       "    </tr>\n",
       "    <tr>\n",
       "      <th>4</th>\n",
       "      <td>Parasita</td>\n",
       "      <td>2019</td>\n",
       "      <td>8.5</td>\n",
       "      <td>Friends</td>\n",
       "      <td>1994</td>\n",
       "      <td>8.0</td>\n",
       "      <td>Avatar: The Last Airbender</td>\n",
       "      <td>2005</td>\n",
       "      <td>10.0</td>\n",
       "    </tr>\n",
       "  </tbody>\n",
       "</table>\n",
       "</div>"
      ],
      "text/plain": [
       "                                     Filme   Ano  Nota            Série   Ano  \\\n",
       "0  O Senhor dos Anéis: A Sociedade do Anel  2001  10.0     Breaking Bad  2008   \n",
       "1                                   Matrix  1999   9.0  Stranger Things  2016   \n",
       "2                                Inception  2010   9.5  Game of Thrones  2011   \n",
       "3                             Interstellar  2014   9.0       The Office  2005   \n",
       "4                                 Parasita  2019   8.5          Friends  1994   \n",
       "\n",
       "   Nota               Anime/Desenho   Ano  Nota  \n",
       "0  10.0                      Naruto  2002   9.0  \n",
       "1   9.0             Attack on Titan  2013   9.5  \n",
       "2   8.5               Dragon Ball Z  1989   8.5  \n",
       "3   9.0                   One Piece  1999   9.0  \n",
       "4   8.0  Avatar: The Last Airbender  2005  10.0  "
      ]
     },
     "execution_count": 17,
     "metadata": {},
     "output_type": "execute_result"
    }
   ],
   "source": [
    "df_concatenado = pd.concat([meus_filmes, minhas_series, meus_animes], axis=1)\n",
    "df_concatenado"
   ]
  },
  {
   "cell_type": "code",
   "execution_count": null,
   "id": "bd3ad1bd-9aa4-4b12-aedc-fe82d18de074",
   "metadata": {},
   "outputs": [],
   "source": []
  }
 ],
 "metadata": {
  "kernelspec": {
   "display_name": "Python 3 (ipykernel)",
   "language": "python",
   "name": "python3"
  },
  "language_info": {
   "codemirror_mode": {
    "name": "ipython",
    "version": 3
   },
   "file_extension": ".py",
   "mimetype": "text/x-python",
   "name": "python",
   "nbconvert_exporter": "python",
   "pygments_lexer": "ipython3",
   "version": "3.12.4"
  }
 },
 "nbformat": 4,
 "nbformat_minor": 5
}
