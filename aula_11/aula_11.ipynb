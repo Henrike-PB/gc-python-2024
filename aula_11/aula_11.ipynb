{
 "cells": [
  {
   "cell_type": "markdown",
   "id": "127a9a8e-66bf-4891-bd2f-5c583d421106",
   "metadata": {},
   "source": [
    "# Exercicio\n",
    "\n",
    "Discretizar atributo numérico que possui os valores abaixo em 3 intervalos\n",
    "\n",
    "[0, 1, 2, 6, 6, 9, 10, 10, 10, 13, 16, 17, 18, 20, 20, 21, 21, 25]\n",
    "\n",
    "Usar\\\n",
    "Larguras iguais\\\n",
    "Frequências iguais\\\n",
    "Inspeção visual"
   ]
  },
  {
   "cell_type": "code",
   "execution_count": null,
   "id": "478f3ff2-c57a-4d2c-b5ba-8ea6608db871",
   "metadata": {},
   "outputs": [],
   "source": []
  }
 ],
 "metadata": {
  "kernelspec": {
   "display_name": "Python 3 (ipykernel)",
   "language": "python",
   "name": "python3"
  },
  "language_info": {
   "codemirror_mode": {
    "name": "ipython",
    "version": 3
   },
   "file_extension": ".py",
   "mimetype": "text/x-python",
   "name": "python",
   "nbconvert_exporter": "python",
   "pygments_lexer": "ipython3",
   "version": "3.12.4"
  }
 },
 "nbformat": 4,
 "nbformat_minor": 5
}
