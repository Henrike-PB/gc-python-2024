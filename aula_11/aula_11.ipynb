{
 "cells": [
  {
   "cell_type": "markdown",
   "id": "127a9a8e-66bf-4891-bd2f-5c583d421106",
   "metadata": {},
   "source": [
    "# Exercicio\n",
    "\n",
    "Discretizar atributo numérico que possui os valores abaixo em 3 intervalos\n",
    "\n",
    "[0, 1, 2, 6, 6, 9, 10, 10, 10, 13, 16, 17, 18, 20, 20, 21, 21, 25]\n",
    "\n",
    "Usar\\\n",
    "Larguras iguais\\\n",
    "Frequências iguais\\\n",
    "Inspeção visual"
   ]
  },
  {
   "cell_type": "code",
   "execution_count": 1,
   "id": "478f3ff2-c57a-4d2c-b5ba-8ea6608db871",
   "metadata": {},
   "outputs": [],
   "source": [
    "import pandas as pd\n",
    "import numpy as np"
   ]
  },
  {
   "cell_type": "code",
   "execution_count": 2,
   "id": "4135f631-1013-40c0-9dc6-28eeba3dc937",
   "metadata": {},
   "outputs": [],
   "source": [
    "data = np.array([0, 1, 2, 6, 6, 9, 10, 10, 10, 13, 16, 17, 18, 20, 20, 21, 21, 25])"
   ]
  },
  {
   "cell_type": "code",
   "execution_count": 3,
   "id": "080c587e-8990-4421-a550-0f5951ab6b73",
   "metadata": {},
   "outputs": [],
   "source": [
    "from sklearn.preprocessing import KBinsDiscretizer"
   ]
  },
  {
   "cell_type": "code",
   "execution_count": 4,
   "id": "c6eea35f-b24b-4875-9c2c-5d52a0c74d99",
   "metadata": {},
   "outputs": [
    {
     "name": "stdout",
     "output_type": "stream",
     "text": [
      "[[0.]\n",
      " [0.]\n",
      " [0.]\n",
      " [0.]\n",
      " [0.]\n",
      " [1.]\n",
      " [1.]\n",
      " [1.]\n",
      " [1.]\n",
      " [1.]\n",
      " [1.]\n",
      " [2.]\n",
      " [2.]\n",
      " [2.]\n",
      " [2.]\n",
      " [2.]\n",
      " [2.]\n",
      " [2.]]\n"
     ]
    }
   ],
   "source": [
    "discretizador = KBinsDiscretizer(n_bins=3, encode='ordinal', strategy='uniform')\n",
    "binned_data = discretizador.fit_transform(data.reshape(-1, 1))\n",
    "print(binned_data)"
   ]
  },
  {
   "cell_type": "code",
   "execution_count": null,
   "id": "46ae2f8b-d96b-4e2e-85e5-004eb0efbaa4",
   "metadata": {},
   "outputs": [],
   "source": []
  }
 ],
 "metadata": {
  "kernelspec": {
   "display_name": "Python 3 (ipykernel)",
   "language": "python",
   "name": "python3"
  },
  "language_info": {
   "codemirror_mode": {
    "name": "ipython",
    "version": 3
   },
   "file_extension": ".py",
   "mimetype": "text/x-python",
   "name": "python",
   "nbconvert_exporter": "python",
   "pygments_lexer": "ipython3",
   "version": "3.12.4"
  }
 },
 "nbformat": 4,
 "nbformat_minor": 5
}
