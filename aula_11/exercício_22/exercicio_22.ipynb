{
 "cells": [
  {
   "cell_type": "code",
   "execution_count": 1,
   "id": "5616ac9a-45bc-4f49-aca5-cd459153d9ff",
   "metadata": {},
   "outputs": [],
   "source": [
    "import pandas as pd"
   ]
  },
  {
   "cell_type": "markdown",
   "id": "0a4be9d4-d66a-4dfc-b763-c304c38f7e34",
   "metadata": {},
   "source": [
    "## Normalize o atributo Rendimentos utilizando Re-escala [0,1]."
   ]
  },
  {
   "cell_type": "code",
   "execution_count": null,
   "id": "0a9982be-6779-4ca4-b005-02fbcee7d907",
   "metadata": {},
   "outputs": [],
   "source": []
  }
 ],
 "metadata": {
  "kernelspec": {
   "display_name": "Python 3 (ipykernel)",
   "language": "python",
   "name": "python3"
  },
  "language_info": {
   "codemirror_mode": {
    "name": "ipython",
    "version": 3
   },
   "file_extension": ".py",
   "mimetype": "text/x-python",
   "name": "python",
   "nbconvert_exporter": "python",
   "pygments_lexer": "ipython3",
   "version": "3.12.4"
  }
 },
 "nbformat": 4,
 "nbformat_minor": 5
}
