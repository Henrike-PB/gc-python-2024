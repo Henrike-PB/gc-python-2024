{
 "cells": [
  {
   "cell_type": "markdown",
   "id": "0cf46d2f-21c8-41c8-9bc5-5332832212f3",
   "metadata": {},
   "source": [
    "# ✦ Utilize o dataset zoo_2.csv e execute o algoritmo utilizando o método holdout, reservando apenas 20% dos dados para teste."
   ]
  },
  {
   "cell_type": "code",
   "execution_count": null,
   "id": "2d77997b-d85e-4adf-ad05-255f1107d4be",
   "metadata": {},
   "outputs": [],
   "source": []
  },
  {
   "cell_type": "markdown",
   "id": "2df9e476-56ee-4576-b8a4-6de95dc69888",
   "metadata": {},
   "source": [
    "# ✦ Gere a matriz de confusão para os datasets de treino e teste."
   ]
  },
  {
   "cell_type": "code",
   "execution_count": null,
   "id": "f15f0227-1448-4c7b-a240-8c13c5f3f369",
   "metadata": {},
   "outputs": [],
   "source": []
  },
  {
   "cell_type": "markdown",
   "id": "582d2e8b-ec49-4cea-a214-d7017b2f8799",
   "metadata": {},
   "source": [
    "# ✦ Compute as métricas (precision, recall e f1-score) para os conjutos de treino e teste."
   ]
  },
  {
   "cell_type": "code",
   "execution_count": null,
   "id": "7514733a-4f48-47d6-a824-15c0c150f8c8",
   "metadata": {},
   "outputs": [],
   "source": []
  },
  {
   "cell_type": "markdown",
   "id": "97b287cd-5c08-4240-a5f0-e068e5c1973f",
   "metadata": {},
   "source": [
    "# ✦ Avalie e compare os resultados obtidos pelo dataset de treino e teste e identifique se houve overfitting, underfitting ou se o modelo induzido gerado é adequado para utilizar em dados não vistos."
   ]
  },
  {
   "cell_type": "code",
   "execution_count": null,
   "id": "d7aff51a-56cb-45f3-bd8f-9356eb9795bf",
   "metadata": {},
   "outputs": [],
   "source": []
  },
  {
   "cell_type": "markdown",
   "id": "71bc594b-a88a-4ffb-853e-a5cd2b8520d1",
   "metadata": {},
   "source": [
    "# ✦ Caso os resultados não estejam bons, altere os parâmetros do algoritmo para tentar melhorar o desempenho do modelo."
   ]
  },
  {
   "cell_type": "code",
   "execution_count": null,
   "id": "16d0c6d0-94ef-4b65-8710-56dc30efebf7",
   "metadata": {},
   "outputs": [],
   "source": []
  }
 ],
 "metadata": {
  "kernelspec": {
   "display_name": "Python 3 (ipykernel)",
   "language": "python",
   "name": "python3"
  },
  "language_info": {
   "codemirror_mode": {
    "name": "ipython",
    "version": 3
   },
   "file_extension": ".py",
   "mimetype": "text/x-python",
   "name": "python",
   "nbconvert_exporter": "python",
   "pygments_lexer": "ipython3",
   "version": "3.12.4"
  }
 },
 "nbformat": 4,
 "nbformat_minor": 5
}
